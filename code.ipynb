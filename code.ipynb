{
 "cells": [
  {
   "cell_type": "markdown",
   "metadata": {},
   "source": [
    "# Job salary prediction based on TFIDF and Embedding of job descriptions"
   ]
  },
  {
   "cell_type": "code",
   "execution_count": 1,
   "metadata": {
    "ExecuteTime": {
     "end_time": "2023-05-11T16:45:23.989959Z",
     "start_time": "2023-05-11T16:45:17.598010Z"
    }
   },
   "outputs": [],
   "source": [
    "import pandas as pd\n",
    "import numpy as np\n",
    "import math\n",
    "import operator\n",
    "import matplotlib.pyplot as plt\n",
    "from matplotlib.pyplot import figure\n",
    "from sklearn.metrics import accuracy_score\n",
    "from sklearn.metrics import classification_report\n",
    "from sklearn.preprocessing import StandardScaler, MinMaxScaler\n",
    "from sklearn.model_selection import cross_val_score, train_test_split, GridSearchCV, KFold\n",
    "from sklearn.dummy import DummyClassifier\n",
    "from sklearn.naive_bayes import MultinomialNB\n",
    "from sklearn.neighbors import KNeighborsClassifier\n",
    "from sklearn.ensemble import RandomForestClassifier\n",
    "from sklearn.semi_supervised import SelfTrainingClassifier\n",
    "\n",
    "import warnings\n",
    "warnings.filterwarnings(\"ignore\")\n",
    "\n",
    "# Read CSV files of training (train_df), validation (valid_df), and test (test_df) set\n",
    "train_df = pd.read_csv(\"train.csv\")\n",
    "valid_df = pd.read_csv(\"valid.csv\")\n",
    "test_df = pd.read_csv(\"test.csv\")"
   ]
  },
  {
   "cell_type": "markdown",
   "metadata": {},
   "source": [
    "## Data Pre-processing and Exploration"
   ]
  },
  {
   "cell_type": "markdown",
   "metadata": {},
   "source": [
    "### X train data"
   ]
  },
  {
   "cell_type": "code",
   "execution_count": 2,
   "metadata": {
    "ExecuteTime": {
     "end_time": "2023-05-11T16:45:24.464261Z",
     "start_time": "2023-05-11T16:45:23.990922Z"
    }
   },
   "outputs": [],
   "source": [
    "# Load TFIDF and Embedding for training set (train_df)\n",
    "train_tfidf = np.load(\"train-tfidf.npy\")\n",
    "train_embedding = np.load(\"train-embeddings.npy\")\n",
    "\n",
    "# TFIDF for labeled and all training set\n",
    "X_train_tfidf_label = train_tfidf[:8000, :]\n",
    "X_train_tfidf_all = train_tfidf\n",
    "\n",
    "# Embedding for labeled and all training set\n",
    "X_train_embedding_label = train_embedding[:8000, :]\n",
    "X_train_embedding_all = train_embedding\n",
    "\n",
    "# Combined TFIDF and Embedding for labeled and all training set\n",
    "X_train_combined_label = np.concatenate((X_train_tfidf_label, X_train_embedding_label), axis=1)\n",
    "X_train_combined_all = np.concatenate((X_train_tfidf_all, X_train_embedding_all), axis=1)\n",
    "\n",
    "# Combined Scaled TFIDF and Embedding for labeled and all training set\n",
    "# Apply StandardScaler to the entire training set (fit_transform on X_train_tfidf_all)\n",
    "sc_tfidf_all = StandardScaler()\n",
    "X_train_tfidf_all_scaled = sc_tfidf_all.fit_transform(X_train_tfidf_all)\n",
    "sc_embedding_all = StandardScaler()\n",
    "X_train_embedding_all_scaled = sc_embedding_all.fit_transform(X_train_embedding_all)\n",
    "X_train_combined_all_scaled = np.concatenate((X_train_tfidf_all_scaled, X_train_embedding_all_scaled), axis=1)\n",
    "\n",
    "# Setup the lebeled data in training set (first 8000 descriptions)\n",
    "X_train_tfidf_label_scaled = X_train_tfidf_all_scaled[:8000, :]\n",
    "X_train_embedding_label_scaled = X_train_embedding_all_scaled[:8000, :]\n",
    "X_train_combined_label_scaled = np.concatenate((X_train_tfidf_label_scaled, X_train_embedding_label_scaled), axis=1)"
   ]
  },
  {
   "cell_type": "markdown",
   "metadata": {},
   "source": [
    "### X valid data"
   ]
  },
  {
   "cell_type": "code",
   "execution_count": 3,
   "metadata": {
    "ExecuteTime": {
     "end_time": "2023-05-11T16:45:24.542990Z",
     "start_time": "2023-05-11T16:45:24.466194Z"
    }
   },
   "outputs": [],
   "source": [
    "# Load TFIDF and Embedding for validation set (valid_df)\n",
    "valid_tfidf = np.load(\"valid-tfidf.npy\")\n",
    "valid_embedding = np.load(\"valid-embeddings.npy\")\n",
    "\n",
    "# TFIDF for validation set\n",
    "X_valid_tfidf = valid_tfidf\n",
    "\n",
    "# Embedding for validation set\n",
    "X_valid_embedding = valid_embedding\n",
    "\n",
    "# Combined TFIDF and Embedding for validation set\n",
    "X_valid_combined = np.concatenate((valid_tfidf, valid_embedding), axis=1)\n",
    "\n",
    "# Combined Scaled TFIDF and Embedding for validation set\n",
    "# Apply the StandardScaler from training set\n",
    "X_valid_tfidf_scaled = sc_tfidf_all.transform(X_valid_tfidf)\n",
    "X_valid_embedding_scaled = sc_embedding_all.transform(X_valid_embedding)\n",
    "X_valid_combined_scaled = np.concatenate((X_valid_tfidf_scaled, X_valid_embedding_scaled), axis=1)"
   ]
  },
  {
   "cell_type": "markdown",
   "metadata": {},
   "source": [
    "### X test data"
   ]
  },
  {
   "cell_type": "code",
   "execution_count": 4,
   "metadata": {
    "ExecuteTime": {
     "end_time": "2023-05-11T16:45:24.622776Z",
     "start_time": "2023-05-11T16:45:24.544983Z"
    }
   },
   "outputs": [],
   "source": [
    "# Load TFIDF and Embedding for test set (test_df)\n",
    "test_tfidf = np.load(\"test-tfidf.npy\")\n",
    "test_embedding = np.load(\"test-embeddings.npy\")\n",
    "\n",
    "# TFIDF for test set\n",
    "X_test_tfidf = test_tfidf\n",
    "\n",
    "# Embedding for test set\n",
    "X_test_embedding = test_embedding\n",
    "\n",
    "# Combined TFIDF and Embedding for test set\n",
    "X_test_combined = np.concatenate((test_tfidf, test_embedding), axis=1)\n",
    "\n",
    "# Combined Scaled TFIDF and Embedding for test set\n",
    "# Apply the StandardScaler from training set\n",
    "X_test_tfidf_scaled = sc_tfidf_all.transform(X_test_tfidf)\n",
    "X_test_embedding_scaled = sc_embedding_all.transform(X_test_embedding)\n",
    "X_test_combined_scaled = np.concatenate((X_test_tfidf_scaled, X_test_embedding_scaled), axis=1)"
   ]
  },
  {
   "cell_type": "markdown",
   "metadata": {},
   "source": [
    "### Y data"
   ]
  },
  {
   "cell_type": "code",
   "execution_count": 5,
   "metadata": {
    "ExecuteTime": {
     "end_time": "2023-05-11T16:45:24.638732Z",
     "start_time": "2023-05-11T16:45:24.625768Z"
    }
   },
   "outputs": [],
   "source": [
    "# salary_bin values in training set (train_df) and validation set (valid_df)\n",
    "Y_train_salary_bin = train_df[\"salary_bin\"].values[:8000].astype(int)\n",
    "Y_valid_salary_bin = valid_df[\"salary_bin\"].values.astype(int)"
   ]
  },
  {
   "cell_type": "markdown",
   "metadata": {},
   "source": [
    "### Mean Expected Salary vs Salary Bin"
   ]
  },
  {
   "cell_type": "code",
   "execution_count": 6,
   "metadata": {
    "ExecuteTime": {
     "end_time": "2023-05-11T16:45:24.669650Z",
     "start_time": "2023-05-11T16:45:24.640727Z"
    }
   },
   "outputs": [
    {
     "name": "stdout",
     "output_type": "stream",
     "text": [
      "train_df - Data summary of mean_salary for each bin\n",
      "\n",
      "\n",
      "           mean_salary                                 \n",
      "                  mean      std    amin     amax   size\n",
      "salary_bin                                             \n",
      "0.0            1828.18   320.48   500.0   2200.0  801.0\n",
      "1.0            2437.51   127.98  2225.0   2650.0  779.0\n",
      "2.0            2929.38   142.22  2675.0   3150.0  808.0\n",
      "3.0            3500.55   187.92  3165.0   3750.0  865.0\n",
      "4.0            4209.67   224.39  3785.0   4500.0  831.0\n",
      "5.0            4971.32   195.96  4550.0   5250.0  641.0\n",
      "6.0            5817.23   276.03  5275.0   6250.0  867.0\n",
      "7.0            6798.10   265.26  6300.0   7250.0  756.0\n",
      "8.0            8185.85   595.75  7275.0   9200.0  763.0\n",
      "9.0           12511.88  3982.62  9234.0  65000.0  889.0\n"
     ]
    }
   ],
   "source": [
    "print(\"train_df - Data summary of mean_salary for each bin\")\n",
    "print(\"\\n\")\n",
    "print(round(train_df.groupby('salary_bin').agg({'mean_salary':[np.mean, np.std, np.min, np.max, np.size]}), 2))"
   ]
  },
  {
   "cell_type": "code",
   "execution_count": 7,
   "metadata": {
    "ExecuteTime": {
     "end_time": "2023-05-11T16:45:24.902537Z",
     "start_time": "2023-05-11T16:45:24.670648Z"
    }
   },
   "outputs": [
    {
     "data": {
      "image/png": "[encoded data removed]",
      "text/plain": [
       "<Figure size 576x360 with 1 Axes>"
      ]
     },
     "metadata": {
      "needs_background": "light"
     },
     "output_type": "display_data"
    }
   ],
   "source": [
    "# Salary vs Bin\n",
    "fig, ax = plt.subplots(figsize=(8,5))\n",
    "train_df.plot.scatter(x='salary_bin', y='mean_salary', s=30, ax=ax)\n",
    "ax.set_title('Mean Expected Salary vs Salary Bin', fontsize = 16)\n",
    "ax.set_ylabel('Salary', fontsize = 14)\n",
    "ax.set_xlabel('Bin Label', fontsize = 14)\n",
    "ax.set_xticks([0,1,2,3,4,5,6,7,8,9])\n",
    "plt.show()"
   ]
  },
  {
   "cell_type": "code",
   "execution_count": 8,
   "metadata": {
    "ExecuteTime": {
     "end_time": "2023-05-11T16:45:25.108986Z",
     "start_time": "2023-05-11T16:45:24.906540Z"
    }
   },
   "outputs": [
    {
     "data": {
      "image/png": "[encoded data removed]",
      "text/plain": [
       "<Figure size 576x360 with 1 Axes>"
      ]
     },
     "metadata": {
      "needs_background": "light"
     },
     "output_type": "display_data"
    }
   ],
   "source": [
    "# Log-Transformed Salary vs Bin\n",
    "train_df_rev = train_df[:8000]\n",
    "\n",
    "# Calculate Log-Transformed Salary\n",
    "log_transformed_values = []\n",
    "for i in range(len(train_df_rev)):\n",
    "    log_transformed_values.append(math.log10(train_df_rev['mean_salary'].values[i]))\n",
    "\n",
    "train_df_rev['log_transformed_salary'] = log_transformed_values\n",
    "\n",
    "fig, ax = plt.subplots(figsize=(8,5))\n",
    "train_df_rev.plot.scatter(x='salary_bin', y='log_transformed_salary', s=30, ax=ax)\n",
    "ax.set_title('Log-Transformed Mean Expected Salary vs Salary Bin', fontsize=16)\n",
    "ax.set_ylabel('Log-Transformed Salary', fontsize=14)\n",
    "ax.set_xlabel('Bin Label', fontsize=14)\n",
    "ax.set_xticks([0,1,2,3,4,5,6,7,8,9])\n",
    "plt.show()"
   ]
  },
  {
   "cell_type": "markdown",
   "metadata": {},
   "source": [
    "## Model Training and Hyperparameter Tuning"
   ]
  },
  {
   "cell_type": "markdown",
   "metadata": {},
   "source": [
    "### Baseline Model (DummyClassifier)"
   ]
  },
  {
   "cell_type": "code",
   "execution_count": 9,
   "metadata": {
    "ExecuteTime": {
     "end_time": "2023-05-11T16:45:25.171819Z",
     "start_time": "2023-05-11T16:45:25.110980Z"
    }
   },
   "outputs": [
    {
     "name": "stdout",
     "output_type": "stream",
     "text": [
      "Baseline Model (TFIDF) accuracy: 0.101\n",
      "Baseline Model (Embedding) accuracy: 0.101\n",
      "Baseline Model (combined TFIDF and Embedding) accuracy: 0.101\n",
      "Baseline Model (combined scaled TFIDF and Embedding) accuracy: 0.101\n"
     ]
    }
   ],
   "source": [
    "from sklearn.dummy import DummyClassifier\n",
    "\n",
    "base_acc_tfidf = []\n",
    "base_acc_embedding = []\n",
    "base_acc_combined = []\n",
    "base_acc_combined_scaled = []\n",
    "\n",
    "for i in range(10):\n",
    "    \n",
    "    baseline_model_tfidf = DummyClassifier(strategy=\"uniform\", random_state=i)\n",
    "    baseline_model_tfidf.fit(X_train_tfidf_label, Y_train_salary_bin)\n",
    "    baseline_model_embedding = DummyClassifier(strategy=\"uniform\", random_state=i)\n",
    "    baseline_model_embedding.fit(X_train_embedding_label, Y_train_salary_bin)\n",
    "    baseline_model_combined = DummyClassifier(strategy=\"uniform\", random_state=i)\n",
    "    baseline_model_combined.fit(X_train_combined_label, Y_train_salary_bin)\n",
    "    baseline_model_combined_scaled = DummyClassifier(strategy=\"uniform\", random_state=i)\n",
    "    baseline_model_combined_scaled.fit(X_train_combined_label_scaled, Y_train_salary_bin)\n",
    "\n",
    "    base_acc_tfidf.append(baseline_model_tfidf.score(X_valid_tfidf, Y_valid_salary_bin))\n",
    "    base_acc_embedding.append(baseline_model_embedding.score(X_valid_embedding, Y_valid_salary_bin))\n",
    "    base_acc_combined.append(baseline_model_combined.score(X_valid_combined, Y_valid_salary_bin))\n",
    "    base_acc_combined_scaled.append(baseline_model_combined_scaled.score(X_valid_combined_scaled, Y_valid_salary_bin))\n",
    "\n",
    "print(\"Baseline Model (TFIDF) accuracy:\", round(sum(base_acc_tfidf) / 10.0, 3))\n",
    "print(\"Baseline Model (Embedding) accuracy:\", round(sum(base_acc_embedding) / 10.0, 3))\n",
    "print(\"Baseline Model (combined TFIDF and Embedding) accuracy:\", round(sum(base_acc_combined) / 10.0, 3))\n",
    "print(\"Baseline Model (combined scaled TFIDF and Embedding) accuracy:\", round(sum(base_acc_combined_scaled) / 10.0, 3))"
   ]
  },
  {
   "cell_type": "code",
   "execution_count": 10,
   "metadata": {
    "ExecuteTime": {
     "end_time": "2023-05-11T16:45:25.218692Z",
     "start_time": "2023-05-11T16:45:25.173827Z"
    },
    "scrolled": false
   },
   "outputs": [
    {
     "name": "stdout",
     "output_type": "stream",
     "text": [
      "Baseline Model (TFIDF)\n",
      "              precision    recall  f1-score   support\n",
      "\n",
      "           0       0.09      0.08      0.08       180\n",
      "           1       0.06      0.07      0.06       142\n",
      "           2       0.15      0.14      0.14       181\n",
      "           3       0.10      0.09      0.10       190\n",
      "           4       0.09      0.08      0.08       201\n",
      "           5       0.13      0.15      0.14       150\n",
      "           6       0.12      0.12      0.12       178\n",
      "           7       0.12      0.13      0.12       171\n",
      "           8       0.08      0.08      0.08       171\n",
      "           9       0.12      0.12      0.12       173\n",
      "\n",
      "    accuracy                           0.11      1737\n",
      "   macro avg       0.11      0.11      0.11      1737\n",
      "weighted avg       0.11      0.11      0.11      1737\n",
      "\n",
      "\n",
      "\n",
      "Baseline Model (Embedding)\n",
      "              precision    recall  f1-score   support\n",
      "\n",
      "           0       0.09      0.08      0.08       180\n",
      "           1       0.06      0.07      0.06       142\n",
      "           2       0.15      0.14      0.14       181\n",
      "           3       0.10      0.09      0.10       190\n",
      "           4       0.09      0.08      0.08       201\n",
      "           5       0.13      0.15      0.14       150\n",
      "           6       0.12      0.12      0.12       178\n",
      "           7       0.12      0.13      0.12       171\n",
      "           8       0.08      0.08      0.08       171\n",
      "           9       0.12      0.12      0.12       173\n",
      "\n",
      "    accuracy                           0.11      1737\n",
      "   macro avg       0.11      0.11      0.11      1737\n",
      "weighted avg       0.11      0.11      0.11      1737\n",
      "\n",
      "\n",
      "\n",
      "Baseline Model (combined TFIDF and Embedding)\n",
      "              precision    recall  f1-score   support\n",
      "\n",
      "           0       0.09      0.08      0.08       180\n",
      "           1       0.06      0.07      0.06       142\n",
      "           2       0.15      0.14      0.14       181\n",
      "           3       0.10      0.09      0.10       190\n",
      "           4       0.09      0.08      0.08       201\n",
      "           5       0.13      0.15      0.14       150\n",
      "           6       0.12      0.12      0.12       178\n",
      "           7       0.12      0.13      0.12       171\n",
      "           8       0.08      0.08      0.08       171\n",
      "           9       0.12      0.12      0.12       173\n",
      "\n",
      "    accuracy                           0.11      1737\n",
      "   macro avg       0.11      0.11      0.11      1737\n",
      "weighted avg       0.11      0.11      0.11      1737\n",
      "\n",
      "\n",
      "\n",
      "Baseline Model (combined scaled TFIDF and Embedding)\n",
      "              precision    recall  f1-score   support\n",
      "\n",
      "           0       0.09      0.08      0.08       180\n",
      "           1       0.06      0.07      0.06       142\n",
      "           2       0.15      0.14      0.14       181\n",
      "           3       0.10      0.09      0.10       190\n",
      "           4       0.09      0.08      0.08       201\n",
      "           5       0.13      0.15      0.14       150\n",
      "           6       0.12      0.12      0.12       178\n",
      "           7       0.12      0.13      0.12       171\n",
      "           8       0.08      0.08      0.08       171\n",
      "           9       0.12      0.12      0.12       173\n",
      "\n",
      "    accuracy                           0.11      1737\n",
      "   macro avg       0.11      0.11      0.11      1737\n",
      "weighted avg       0.11      0.11      0.11      1737\n",
      "\n"
     ]
    }
   ],
   "source": [
    "Y_pred_tfidf = baseline_model_tfidf.predict(X_valid_tfidf)\n",
    "Y_pred_embedding = baseline_model_embedding.predict(X_valid_embedding)\n",
    "Y_pred_combined = baseline_model_combined.predict(X_valid_combined)\n",
    "Y_pred_combined_scaled = baseline_model_combined_scaled.predict(X_valid_combined_scaled)\n",
    "\n",
    "print(\"Baseline Model (TFIDF)\")\n",
    "print(classification_report(Y_valid_salary_bin, Y_pred_tfidf))\n",
    "\n",
    "print('\\n')\n",
    "\n",
    "print(\"Baseline Model (Embedding)\")\n",
    "print(classification_report(Y_valid_salary_bin, Y_pred_embedding))\n",
    "\n",
    "print('\\n')\n",
    "\n",
    "print(\"Baseline Model (combined TFIDF and Embedding)\")\n",
    "print(classification_report(Y_valid_salary_bin, Y_pred_combined))\n",
    "\n",
    "print('\\n')\n",
    "\n",
    "print(\"Baseline Model (combined scaled TFIDF and Embedding)\")\n",
    "print(classification_report(Y_valid_salary_bin, Y_pred_combined_scaled))"
   ]
  },
  {
   "cell_type": "markdown",
   "metadata": {},
   "source": [
    "### Multinomial Naïve Bayes"
   ]
  },
  {
   "cell_type": "markdown",
   "metadata": {},
   "source": [
    "For Multinomial Naïve Bayes, the hyperparameter to be tuned is:\n",
    "- **alpha:** additive Laplace smoothing parameter"
   ]
  },
  {
   "cell_type": "markdown",
   "metadata": {},
   "source": [
    "#### TFIDF"
   ]
  },
  {
   "cell_type": "code",
   "execution_count": 11,
   "metadata": {
    "ExecuteTime": {
     "end_time": "2023-05-11T16:45:26.846976Z",
     "start_time": "2023-05-11T16:45:25.220687Z"
    }
   },
   "outputs": [
    {
     "data": {
      "text/plain": [
       "{'alpha': 0.5}"
      ]
     },
     "execution_count": 11,
     "metadata": {},
     "output_type": "execute_result"
    }
   ],
   "source": [
    "from sklearn.naive_bayes import MultinomialNB\n",
    "\n",
    "parameters = [\n",
    "    {'alpha': [0, 0.1, 0.2, 0.3, 0.4, 0.5, 0.6, 0.7, 0.8, 0.9, 1, 10, 20]\n",
    "    }\n",
    "]\n",
    "\n",
    "# Search for the best parameters\n",
    "model = MultinomialNB()\n",
    "gs = GridSearchCV(model, parameters, scoring='accuracy')\n",
    "gs.fit(X_train_tfidf_label, Y_train_salary_bin)\n",
    "\n",
    "# Best parameters\n",
    "gs.best_params_"
   ]
  },
  {
   "cell_type": "code",
   "execution_count": 12,
   "metadata": {
    "ExecuteTime": {
     "end_time": "2023-05-11T16:45:26.861937Z",
     "start_time": "2023-05-11T16:45:26.847974Z"
    }
   },
   "outputs": [
    {
     "data": {
      "text/html": [
       "<div>\n",
       "<style scoped>\n",
       "    .dataframe tbody tr th:only-of-type {\n",
       "        vertical-align: middle;\n",
       "    }\n",
       "\n",
       "    .dataframe tbody tr th {\n",
       "        vertical-align: top;\n",
       "    }\n",
       "\n",
       "    .dataframe thead th {\n",
       "        text-align: right;\n",
       "    }\n",
       "</style>\n",
       "<table border=\"1\" class=\"dataframe\">\n",
       "  <thead>\n",
       "    <tr style=\"text-align: right;\">\n",
       "      <th></th>\n",
       "      <th>alpha</th>\n",
       "      <th>runtime</th>\n",
       "      <th>mean test score</th>\n",
       "    </tr>\n",
       "  </thead>\n",
       "  <tbody>\n",
       "    <tr>\n",
       "      <th>0</th>\n",
       "      <td>0.0</td>\n",
       "      <td>0.023929</td>\n",
       "      <td>0.240375</td>\n",
       "    </tr>\n",
       "    <tr>\n",
       "      <th>1</th>\n",
       "      <td>0.1</td>\n",
       "      <td>0.020066</td>\n",
       "      <td>0.240875</td>\n",
       "    </tr>\n",
       "    <tr>\n",
       "      <th>2</th>\n",
       "      <td>0.2</td>\n",
       "      <td>0.019727</td>\n",
       "      <td>0.240500</td>\n",
       "    </tr>\n",
       "    <tr>\n",
       "      <th>3</th>\n",
       "      <td>0.3</td>\n",
       "      <td>0.018719</td>\n",
       "      <td>0.241250</td>\n",
       "    </tr>\n",
       "    <tr>\n",
       "      <th>4</th>\n",
       "      <td>0.4</td>\n",
       "      <td>0.018125</td>\n",
       "      <td>0.242000</td>\n",
       "    </tr>\n",
       "    <tr>\n",
       "      <th>5</th>\n",
       "      <td>0.5</td>\n",
       "      <td>0.018351</td>\n",
       "      <td>0.242625</td>\n",
       "    </tr>\n",
       "    <tr>\n",
       "      <th>6</th>\n",
       "      <td>0.6</td>\n",
       "      <td>0.018351</td>\n",
       "      <td>0.242375</td>\n",
       "    </tr>\n",
       "    <tr>\n",
       "      <th>7</th>\n",
       "      <td>0.7</td>\n",
       "      <td>0.018131</td>\n",
       "      <td>0.241625</td>\n",
       "    </tr>\n",
       "    <tr>\n",
       "      <th>8</th>\n",
       "      <td>0.8</td>\n",
       "      <td>0.019335</td>\n",
       "      <td>0.240750</td>\n",
       "    </tr>\n",
       "    <tr>\n",
       "      <th>9</th>\n",
       "      <td>0.9</td>\n",
       "      <td>0.019929</td>\n",
       "      <td>0.240000</td>\n",
       "    </tr>\n",
       "    <tr>\n",
       "      <th>10</th>\n",
       "      <td>1.0</td>\n",
       "      <td>0.018132</td>\n",
       "      <td>0.239875</td>\n",
       "    </tr>\n",
       "    <tr>\n",
       "      <th>11</th>\n",
       "      <td>10.0</td>\n",
       "      <td>0.019150</td>\n",
       "      <td>0.236250</td>\n",
       "    </tr>\n",
       "    <tr>\n",
       "      <th>12</th>\n",
       "      <td>20.0</td>\n",
       "      <td>0.018744</td>\n",
       "      <td>0.230500</td>\n",
       "    </tr>\n",
       "  </tbody>\n",
       "</table>\n",
       "</div>"
      ],
      "text/plain": [
       "    alpha   runtime  mean test score\n",
       "0     0.0  0.023929         0.240375\n",
       "1     0.1  0.020066         0.240875\n",
       "2     0.2  0.019727         0.240500\n",
       "3     0.3  0.018719         0.241250\n",
       "4     0.4  0.018125         0.242000\n",
       "5     0.5  0.018351         0.242625\n",
       "6     0.6  0.018351         0.242375\n",
       "7     0.7  0.018131         0.241625\n",
       "8     0.8  0.019335         0.240750\n",
       "9     0.9  0.019929         0.240000\n",
       "10    1.0  0.018132         0.239875\n",
       "11   10.0  0.019150         0.236250\n",
       "12   20.0  0.018744         0.230500"
      ]
     },
     "execution_count": 12,
     "metadata": {},
     "output_type": "execute_result"
    }
   ],
   "source": [
    "# Output the hyperparameter tuning results\n",
    "gs_res = {\n",
    "    'alpha': [gs.cv_results_['params'][i]['alpha'] for i in range(len(gs.cv_results_['params']))],\n",
    "    'runtime': gs.cv_results_['mean_fit_time'] + gs.cv_results_['mean_score_time'],\n",
    "    'mean test score': gs.cv_results_['mean_test_score']\n",
    "}\n",
    "\n",
    "mnb_df = pd.DataFrame(gs_res)\n",
    "mnb_df"
   ]
  },
  {
   "cell_type": "code",
   "execution_count": 13,
   "metadata": {
    "ExecuteTime": {
     "end_time": "2023-05-11T16:45:27.702688Z",
     "start_time": "2023-05-11T16:45:26.863932Z"
    }
   },
   "outputs": [
    {
     "data": {
      "image/png": "[encoded data removed]",
      "text/plain": [
       "<Figure size 432x288 with 1 Axes>"
      ]
     },
     "metadata": {
      "needs_background": "light"
     },
     "output_type": "display_data"
    }
   ],
   "source": [
    "train_acc = []\n",
    "valid_acc = []\n",
    "\n",
    "for i in [0, 0.1, 0.2, 0.3, 0.4, 0.5, 0.6, 0.7, 0.8, 0.9, 1, 10, 20]:\n",
    "    clf = MultinomialNB(alpha=i)\n",
    "    clf.fit(X_train_tfidf_label,Y_train_salary_bin)\n",
    "    train_acc.append(clf.score(X_train_tfidf_label, Y_train_salary_bin))\n",
    "    valid_acc.append(clf.score(X_valid_tfidf, Y_valid_salary_bin))\n",
    "    \n",
    "figure(figsize=(6,4))\n",
    "x = [0, 0.1, 0.2, 0.3, 0.4, 0.5, 0.6, 0.7, 0.8, 0.9, 1, 10, 20]\n",
    "  \n",
    "# Plot Training and Validation accuracy\n",
    "plt.plot(x, train_acc, label = \"Training\")\n",
    "plt.plot(x, valid_acc, label = \"Validation\")\n",
    "\n",
    "plt.title('Accuracy vs $\\it{alpha}$', fontsize=15)\n",
    "plt.ylabel('Accuracy', fontsize=12)\n",
    "plt.xlabel('alpha', fontsize=12, style='italic')\n",
    "plt.legend(['Training', 'Validation'], loc='upper right')\n",
    "plt.ylim(0.22,0.325)\n",
    "plt.show()"
   ]
  },
  {
   "cell_type": "code",
   "execution_count": 14,
   "metadata": {
    "ExecuteTime": {
     "end_time": "2023-05-11T16:45:27.733606Z",
     "start_time": "2023-05-11T16:45:27.703685Z"
    },
    "scrolled": true
   },
   "outputs": [
    {
     "name": "stdout",
     "output_type": "stream",
     "text": [
      "Accuracy for Validation Set: 0.231\n"
     ]
    }
   ],
   "source": [
    "clf = MultinomialNB(alpha=0.5)\n",
    "clf.fit(X_train_tfidf_label, Y_train_salary_bin)\n",
    "print(\"Accuracy for Validation Set: {}\".format(round(clf.score(X_valid_tfidf, Y_valid_salary_bin), 3)))"
   ]
  },
  {
   "cell_type": "code",
   "execution_count": 15,
   "metadata": {
    "ExecuteTime": {
     "end_time": "2023-05-11T16:45:27.748593Z",
     "start_time": "2023-05-11T16:45:27.735600Z"
    }
   },
   "outputs": [
    {
     "name": "stdout",
     "output_type": "stream",
     "text": [
      "MultinomialNB (TFIDF)\n",
      "              precision    recall  f1-score   support\n",
      "\n",
      "           0       0.40      0.63      0.49       180\n",
      "           1       0.15      0.16      0.16       142\n",
      "           2       0.21      0.15      0.18       181\n",
      "           3       0.18      0.17      0.17       190\n",
      "           4       0.21      0.12      0.15       201\n",
      "           5       0.11      0.01      0.01       150\n",
      "           6       0.17      0.22      0.19       178\n",
      "           7       0.20      0.20      0.20       171\n",
      "           8       0.19      0.09      0.13       171\n",
      "           9       0.23      0.54      0.33       173\n",
      "\n",
      "    accuracy                           0.23      1737\n",
      "   macro avg       0.21      0.23      0.20      1737\n",
      "weighted avg       0.21      0.23      0.20      1737\n",
      "\n"
     ]
    }
   ],
   "source": [
    "Y_pred = clf.predict(X_valid_tfidf)\n",
    "\n",
    "print(\"MultinomialNB (TFIDF)\")\n",
    "print(classification_report(Y_valid_salary_bin, Y_pred))"
   ]
  },
  {
   "cell_type": "code",
   "execution_count": 16,
   "metadata": {
    "ExecuteTime": {
     "end_time": "2023-05-11T16:45:27.873233Z",
     "start_time": "2023-05-11T16:45:27.749595Z"
    }
   },
   "outputs": [
    {
     "data": {
      "text/html": [
       "<div>\n",
       "<style scoped>\n",
       "    .dataframe tbody tr th:only-of-type {\n",
       "        vertical-align: middle;\n",
       "    }\n",
       "\n",
       "    .dataframe tbody tr th {\n",
       "        vertical-align: top;\n",
       "    }\n",
       "\n",
       "    .dataframe thead th {\n",
       "        text-align: right;\n",
       "    }\n",
       "</style>\n",
       "<table border=\"1\" class=\"dataframe\">\n",
       "  <thead>\n",
       "    <tr style=\"text-align: right;\">\n",
       "      <th></th>\n",
       "      <th>coef</th>\n",
       "      <th>word</th>\n",
       "    </tr>\n",
       "  </thead>\n",
       "  <tbody>\n",
       "    <tr>\n",
       "      <th>0</th>\n",
       "      <td>-4.129980</td>\n",
       "      <td>duties</td>\n",
       "    </tr>\n",
       "    <tr>\n",
       "      <th>1</th>\n",
       "      <td>-4.365747</td>\n",
       "      <td>assist</td>\n",
       "    </tr>\n",
       "    <tr>\n",
       "      <th>2</th>\n",
       "      <td>-4.491864</td>\n",
       "      <td>customer</td>\n",
       "    </tr>\n",
       "    <tr>\n",
       "      <th>3</th>\n",
       "      <td>-4.526898</td>\n",
       "      <td>customers</td>\n",
       "    </tr>\n",
       "    <tr>\n",
       "      <th>4</th>\n",
       "      <td>-4.567137</td>\n",
       "      <td>ensure</td>\n",
       "    </tr>\n",
       "    <tr>\n",
       "      <th>5</th>\n",
       "      <td>-4.631731</td>\n",
       "      <td>sales</td>\n",
       "    </tr>\n",
       "    <tr>\n",
       "      <th>6</th>\n",
       "      <td>-4.656500</td>\n",
       "      <td>perform</td>\n",
       "    </tr>\n",
       "    <tr>\n",
       "      <th>7</th>\n",
       "      <td>-4.679107</td>\n",
       "      <td>work</td>\n",
       "    </tr>\n",
       "    <tr>\n",
       "      <th>8</th>\n",
       "      <td>-4.732253</td>\n",
       "      <td>service</td>\n",
       "    </tr>\n",
       "    <tr>\n",
       "      <th>9</th>\n",
       "      <td>-4.752893</td>\n",
       "      <td>assigned</td>\n",
       "    </tr>\n",
       "  </tbody>\n",
       "</table>\n",
       "</div>"
      ],
      "text/plain": [
       "       coef       word\n",
       "0 -4.129980     duties\n",
       "1 -4.365747     assist\n",
       "2 -4.491864   customer\n",
       "3 -4.526898  customers\n",
       "4 -4.567137     ensure\n",
       "5 -4.631731      sales\n",
       "6 -4.656500    perform\n",
       "7 -4.679107       work\n",
       "8 -4.732253    service\n",
       "9 -4.752893   assigned"
      ]
     },
     "execution_count": 16,
     "metadata": {},
     "output_type": "execute_result"
    }
   ],
   "source": [
    "# The value each feature's coefficient is a measure of its importance.Use \"clf.coef_\" to find the coefficient value.  \n",
    "# The larger the value, the more likely that feature is associated with the target class.\n",
    "# Search for the Top 10 words in \"tfidf_words.csv\"\n",
    "\n",
    "df_tfidf_words = pd.read_csv('tfidf_words.csv', header=None)\n",
    "tfidf_words = df_tfidf_words[0].values\n",
    "\n",
    "# Zip the coefficient with words, and sort the values in ascending order\n",
    "coefs_with_words = sorted(zip(clf.coef_[0], tfidf_words), reverse=True)\n",
    "\n",
    "df = pd.DataFrame(columns = ['coef', 'word'])\n",
    "coef = []\n",
    "word = []\n",
    "for i in range(10):\n",
    "    coef.append(coefs_with_words[:10][i][0])\n",
    "    word.append(coefs_with_words[:10][i][1])\n",
    "\n",
    "df['coef'] = coef\n",
    "df['word'] = word\n",
    "df"
   ]
  },
  {
   "cell_type": "markdown",
   "metadata": {},
   "source": [
    "### K-Nearest Neighbors"
   ]
  },
  {
   "cell_type": "markdown",
   "metadata": {},
   "source": [
    "Initially, investigate the effect of distance metrics on the model, including:\n",
    "- manhattan\n",
    "- euclidean\n",
    "- cosine"
   ]
  },
  {
   "cell_type": "code",
   "execution_count": 17,
   "metadata": {
    "ExecuteTime": {
     "end_time": "2023-05-11T16:45:52.733020Z",
     "start_time": "2023-05-11T16:45:27.874231Z"
    }
   },
   "outputs": [
    {
     "data": {
      "text/html": [
       "<div>\n",
       "<style scoped>\n",
       "    .dataframe tbody tr th:only-of-type {\n",
       "        vertical-align: middle;\n",
       "    }\n",
       "\n",
       "    .dataframe tbody tr th {\n",
       "        vertical-align: top;\n",
       "    }\n",
       "\n",
       "    .dataframe thead th {\n",
       "        text-align: right;\n",
       "    }\n",
       "</style>\n",
       "<table border=\"1\" class=\"dataframe\">\n",
       "  <thead>\n",
       "    <tr style=\"text-align: right;\">\n",
       "      <th></th>\n",
       "      <th>metric</th>\n",
       "      <th>runtime</th>\n",
       "      <th>mean test score</th>\n",
       "    </tr>\n",
       "  </thead>\n",
       "  <tbody>\n",
       "    <tr>\n",
       "      <th>0</th>\n",
       "      <td>manhattan</td>\n",
       "      <td>4.519090</td>\n",
       "      <td>0.125250</td>\n",
       "    </tr>\n",
       "    <tr>\n",
       "      <th>1</th>\n",
       "      <td>euclidean</td>\n",
       "      <td>0.317059</td>\n",
       "      <td>0.159250</td>\n",
       "    </tr>\n",
       "    <tr>\n",
       "      <th>2</th>\n",
       "      <td>cosine</td>\n",
       "      <td>0.305384</td>\n",
       "      <td>0.201125</td>\n",
       "    </tr>\n",
       "  </tbody>\n",
       "</table>\n",
       "</div>"
      ],
      "text/plain": [
       "      metric   runtime  mean test score\n",
       "0  manhattan  4.519090         0.125250\n",
       "1  euclidean  0.317059         0.159250\n",
       "2     cosine  0.305384         0.201125"
      ]
     },
     "execution_count": 17,
     "metadata": {},
     "output_type": "execute_result"
    }
   ],
   "source": [
    "from sklearn.neighbors import KNeighborsClassifier\n",
    "\n",
    "parameters = [\n",
    "    {'metric': ['manhattan', 'euclidean', 'cosine']\n",
    "    }\n",
    "]\n",
    "\n",
    "# Search for the best parameters\n",
    "model = KNeighborsClassifier()\n",
    "gs = GridSearchCV(model, parameters, scoring='accuracy')\n",
    "gs.fit(X_train_tfidf_label, Y_train_salary_bin)\n",
    "\n",
    "# Output the hyperparameter tuning results\n",
    "gs_res = {\n",
    "    'metric': [gs.cv_results_['params'][i]['metric'] for i in range(len(gs.cv_results_['params']))],\n",
    "    'runtime': gs.cv_results_['mean_fit_time'] + gs.cv_results_['mean_score_time'],\n",
    "    'mean test score': gs.cv_results_['mean_test_score']\n",
    "}\n",
    "\n",
    "knn_tfidf_df = pd.DataFrame(gs_res)\n",
    "knn_tfidf_df"
   ]
  },
  {
   "cell_type": "code",
   "execution_count": 18,
   "metadata": {
    "ExecuteTime": {
     "end_time": "2023-05-11T16:46:12.756911Z",
     "start_time": "2023-05-11T16:45:52.734018Z"
    },
    "scrolled": true
   },
   "outputs": [
    {
     "data": {
      "text/html": [
       "<div>\n",
       "<style scoped>\n",
       "    .dataframe tbody tr th:only-of-type {\n",
       "        vertical-align: middle;\n",
       "    }\n",
       "\n",
       "    .dataframe tbody tr th {\n",
       "        vertical-align: top;\n",
       "    }\n",
       "\n",
       "    .dataframe thead th {\n",
       "        text-align: right;\n",
       "    }\n",
       "</style>\n",
       "<table border=\"1\" class=\"dataframe\">\n",
       "  <thead>\n",
       "    <tr style=\"text-align: right;\">\n",
       "      <th></th>\n",
       "      <th>metric</th>\n",
       "      <th>runtime</th>\n",
       "      <th>mean test score</th>\n",
       "    </tr>\n",
       "  </thead>\n",
       "  <tbody>\n",
       "    <tr>\n",
       "      <th>0</th>\n",
       "      <td>manhattan</td>\n",
       "      <td>3.677490</td>\n",
       "      <td>0.2075</td>\n",
       "    </tr>\n",
       "    <tr>\n",
       "      <th>1</th>\n",
       "      <td>euclidean</td>\n",
       "      <td>0.354647</td>\n",
       "      <td>0.2090</td>\n",
       "    </tr>\n",
       "    <tr>\n",
       "      <th>2</th>\n",
       "      <td>cosine</td>\n",
       "      <td>0.238809</td>\n",
       "      <td>0.2090</td>\n",
       "    </tr>\n",
       "  </tbody>\n",
       "</table>\n",
       "</div>"
      ],
      "text/plain": [
       "      metric   runtime  mean test score\n",
       "0  manhattan  3.677490           0.2075\n",
       "1  euclidean  0.354647           0.2090\n",
       "2     cosine  0.238809           0.2090"
      ]
     },
     "execution_count": 18,
     "metadata": {},
     "output_type": "execute_result"
    }
   ],
   "source": [
    "from sklearn.neighbors import KNeighborsClassifier\n",
    "\n",
    "parameters = [\n",
    "    {'metric': ['manhattan', 'euclidean', 'cosine']\n",
    "    }\n",
    "]\n",
    "\n",
    "# Search for the best parameters\n",
    "model = KNeighborsClassifier()\n",
    "gs = GridSearchCV(model, parameters, scoring='accuracy')\n",
    "gs.fit(X_train_embedding_label, Y_train_salary_bin)\n",
    "\n",
    "# Output the hyperparameter tuning results\n",
    "gs_res = {\n",
    "    'metric': [gs.cv_results_['params'][i]['metric'] for i in range(len(gs.cv_results_['params']))],\n",
    "    'runtime': gs.cv_results_['mean_fit_time'] + gs.cv_results_['mean_score_time'],\n",
    "    'mean test score': gs.cv_results_['mean_test_score']\n",
    "}\n",
    "\n",
    "knn_embedding_df = pd.DataFrame(gs_res)\n",
    "knn_embedding_df"
   ]
  },
  {
   "cell_type": "markdown",
   "metadata": {},
   "source": [
    "The distance metric is set to **'cosine'** and the hyperparameter to be tuned is:\n",
    "- **n_neighbors:** number of nearest neighbors to be considered"
   ]
  },
  {
   "cell_type": "markdown",
   "metadata": {},
   "source": [
    "#### TFIDF"
   ]
  },
  {
   "cell_type": "code",
   "execution_count": 19,
   "metadata": {
    "ExecuteTime": {
     "end_time": "2023-05-11T16:48:53.284814Z",
     "start_time": "2023-05-11T16:46:12.758872Z"
    }
   },
   "outputs": [
    {
     "data": {
      "text/plain": [
       "{'n_neighbors': 65}"
      ]
     },
     "execution_count": 19,
     "metadata": {},
     "output_type": "execute_result"
    }
   ],
   "source": [
    "parameters = [\n",
    "    {'n_neighbors': list(range(5,100))\n",
    "    }\n",
    "]\n",
    "\n",
    "# Search for the best parameters\n",
    "model = KNeighborsClassifier(metric='cosine')\n",
    "gs = GridSearchCV(model, parameters, scoring='accuracy')\n",
    "gs.fit(X_train_tfidf_label, Y_train_salary_bin)\n",
    "\n",
    "# Best parameters\n",
    "gs.best_params_"
   ]
  },
  {
   "cell_type": "code",
   "execution_count": 20,
   "metadata": {
    "ExecuteTime": {
     "end_time": "2023-05-11T16:48:53.315702Z",
     "start_time": "2023-05-11T16:48:53.286781Z"
    }
   },
   "outputs": [
    {
     "data": {
      "text/html": [
       "<div>\n",
       "<style scoped>\n",
       "    .dataframe tbody tr th:only-of-type {\n",
       "        vertical-align: middle;\n",
       "    }\n",
       "\n",
       "    .dataframe tbody tr th {\n",
       "        vertical-align: top;\n",
       "    }\n",
       "\n",
       "    .dataframe thead th {\n",
       "        text-align: right;\n",
       "    }\n",
       "</style>\n",
       "<table border=\"1\" class=\"dataframe\">\n",
       "  <thead>\n",
       "    <tr style=\"text-align: right;\">\n",
       "      <th></th>\n",
       "      <th>n_neighbors</th>\n",
       "      <th>runtime</th>\n",
       "      <th>mean test score</th>\n",
       "    </tr>\n",
       "  </thead>\n",
       "  <tbody>\n",
       "    <tr>\n",
       "      <th>0</th>\n",
       "      <td>5</td>\n",
       "      <td>0.310687</td>\n",
       "      <td>0.201125</td>\n",
       "    </tr>\n",
       "    <tr>\n",
       "      <th>1</th>\n",
       "      <td>6</td>\n",
       "      <td>0.313069</td>\n",
       "      <td>0.203125</td>\n",
       "    </tr>\n",
       "    <tr>\n",
       "      <th>2</th>\n",
       "      <td>7</td>\n",
       "      <td>0.308582</td>\n",
       "      <td>0.204625</td>\n",
       "    </tr>\n",
       "    <tr>\n",
       "      <th>3</th>\n",
       "      <td>8</td>\n",
       "      <td>0.314319</td>\n",
       "      <td>0.207375</td>\n",
       "    </tr>\n",
       "    <tr>\n",
       "      <th>4</th>\n",
       "      <td>9</td>\n",
       "      <td>0.306897</td>\n",
       "      <td>0.207375</td>\n",
       "    </tr>\n",
       "    <tr>\n",
       "      <th>...</th>\n",
       "      <td>...</td>\n",
       "      <td>...</td>\n",
       "      <td>...</td>\n",
       "    </tr>\n",
       "    <tr>\n",
       "      <th>90</th>\n",
       "      <td>95</td>\n",
       "      <td>0.342680</td>\n",
       "      <td>0.229000</td>\n",
       "    </tr>\n",
       "    <tr>\n",
       "      <th>91</th>\n",
       "      <td>96</td>\n",
       "      <td>0.330181</td>\n",
       "      <td>0.228375</td>\n",
       "    </tr>\n",
       "    <tr>\n",
       "      <th>92</th>\n",
       "      <td>97</td>\n",
       "      <td>0.321310</td>\n",
       "      <td>0.228375</td>\n",
       "    </tr>\n",
       "    <tr>\n",
       "      <th>93</th>\n",
       "      <td>98</td>\n",
       "      <td>0.357477</td>\n",
       "      <td>0.228250</td>\n",
       "    </tr>\n",
       "    <tr>\n",
       "      <th>94</th>\n",
       "      <td>99</td>\n",
       "      <td>0.323871</td>\n",
       "      <td>0.229375</td>\n",
       "    </tr>\n",
       "  </tbody>\n",
       "</table>\n",
       "<p>95 rows × 3 columns</p>\n",
       "</div>"
      ],
      "text/plain": [
       "    n_neighbors   runtime  mean test score\n",
       "0             5  0.310687         0.201125\n",
       "1             6  0.313069         0.203125\n",
       "2             7  0.308582         0.204625\n",
       "3             8  0.314319         0.207375\n",
       "4             9  0.306897         0.207375\n",
       "..          ...       ...              ...\n",
       "90           95  0.342680         0.229000\n",
       "91           96  0.330181         0.228375\n",
       "92           97  0.321310         0.228375\n",
       "93           98  0.357477         0.228250\n",
       "94           99  0.323871         0.229375\n",
       "\n",
       "[95 rows x 3 columns]"
      ]
     },
     "execution_count": 20,
     "metadata": {},
     "output_type": "execute_result"
    }
   ],
   "source": [
    "# Output the hyperparameter tuning results\n",
    "gs_res = {\n",
    "    'n_neighbors': [gs.cv_results_['params'][i]['n_neighbors'] for i in range(len(gs.cv_results_['params']))],\n",
    "    'runtime': gs.cv_results_['mean_fit_time'] + gs.cv_results_['mean_score_time'],\n",
    "    'mean test score': gs.cv_results_['mean_test_score']\n",
    "}\n",
    "\n",
    "knn1_df = pd.DataFrame(gs_res)\n",
    "knn1_df"
   ]
  },
  {
   "cell_type": "code",
   "execution_count": 21,
   "metadata": {
    "ExecuteTime": {
     "end_time": "2023-05-11T16:52:12.515479Z",
     "start_time": "2023-05-11T16:48:53.317698Z"
    },
    "scrolled": true
   },
   "outputs": [
    {
     "data": {
      "image/png": "[encoded data removed]",
      "text/plain": [
       "<Figure size 432x288 with 1 Axes>"
      ]
     },
     "metadata": {
      "needs_background": "light"
     },
     "output_type": "display_data"
    }
   ],
   "source": [
    "from sklearn.neighbors import KNeighborsClassifier\n",
    "\n",
    "train_acc = []\n",
    "valid_acc = []\n",
    "\n",
    "for i in list(range(5,100)):\n",
    "    clf = KNeighborsClassifier(metric='cosine', n_neighbors=i)\n",
    "    clf.fit(X_train_tfidf_label,Y_train_salary_bin)\n",
    "    train_acc.append(clf.score(X_train_tfidf_label, Y_train_salary_bin))\n",
    "    valid_acc.append(clf.score(X_valid_tfidf, Y_valid_salary_bin))\n",
    "    \n",
    "figure(figsize=(6,4))\n",
    "x = list(range(5,100))\n",
    "  \n",
    "# Plot Training and Validation accuracy\n",
    "plt.plot(x, train_acc, label = \"Training\")\n",
    "plt.plot(x, valid_acc, label = \"Validation\")\n",
    "\n",
    "plt.title('Accuracy vs $\\it{n\\_neighbor}$ (TFIDF)', fontsize=15)\n",
    "plt.ylabel('Accuracy', fontsize=12)\n",
    "plt.xlabel('n_neighbors', fontsize=12, style='italic')\n",
    "plt.legend(['Training', 'Validation'], loc='upper right')\n",
    "plt.show()"
   ]
  },
  {
   "cell_type": "code",
   "execution_count": 22,
   "metadata": {
    "ExecuteTime": {
     "end_time": "2023-05-11T16:52:12.935224Z",
     "start_time": "2023-05-11T16:52:12.517317Z"
    }
   },
   "outputs": [
    {
     "name": "stdout",
     "output_type": "stream",
     "text": [
      "Accuracy for Validation Set: 0.221\n"
     ]
    }
   ],
   "source": [
    "clf = KNeighborsClassifier(metric='cosine', n_neighbors=65)\n",
    "clf.fit(X_train_tfidf_label, Y_train_salary_bin)\n",
    "print(\"Accuracy for Validation Set: {}\".format(round(clf.score(X_valid_tfidf, Y_valid_salary_bin), 3)))"
   ]
  },
  {
   "cell_type": "markdown",
   "metadata": {},
   "source": [
    "#### Embedding"
   ]
  },
  {
   "cell_type": "code",
   "execution_count": 23,
   "metadata": {
    "ExecuteTime": {
     "end_time": "2023-05-11T16:54:12.609408Z",
     "start_time": "2023-05-11T16:52:12.939212Z"
    },
    "scrolled": false
   },
   "outputs": [
    {
     "data": {
      "text/plain": [
       "{'n_neighbors': 90}"
      ]
     },
     "execution_count": 23,
     "metadata": {},
     "output_type": "execute_result"
    }
   ],
   "source": [
    "parameters = [\n",
    "    {'n_neighbors': list(range(5,100))\n",
    "    }\n",
    "]\n",
    "\n",
    "# Search for the best parameters\n",
    "model = KNeighborsClassifier(metric='cosine')\n",
    "gs = GridSearchCV(model, parameters, scoring='accuracy')\n",
    "gs.fit(X_train_embedding_label, Y_train_salary_bin)\n",
    "\n",
    "# Best parameters\n",
    "gs.best_params_"
   ]
  },
  {
   "cell_type": "code",
   "execution_count": 24,
   "metadata": {
    "ExecuteTime": {
     "end_time": "2023-05-11T16:54:12.640383Z",
     "start_time": "2023-05-11T16:54:12.611402Z"
    }
   },
   "outputs": [
    {
     "data": {
      "text/html": [
       "<div>\n",
       "<style scoped>\n",
       "    .dataframe tbody tr th:only-of-type {\n",
       "        vertical-align: middle;\n",
       "    }\n",
       "\n",
       "    .dataframe tbody tr th {\n",
       "        vertical-align: top;\n",
       "    }\n",
       "\n",
       "    .dataframe thead th {\n",
       "        text-align: right;\n",
       "    }\n",
       "</style>\n",
       "<table border=\"1\" class=\"dataframe\">\n",
       "  <thead>\n",
       "    <tr style=\"text-align: right;\">\n",
       "      <th></th>\n",
       "      <th>n_neighbors</th>\n",
       "      <th>runtime</th>\n",
       "      <th>mean test score</th>\n",
       "    </tr>\n",
       "  </thead>\n",
       "  <tbody>\n",
       "    <tr>\n",
       "      <th>0</th>\n",
       "      <td>5</td>\n",
       "      <td>0.248943</td>\n",
       "      <td>0.209000</td>\n",
       "    </tr>\n",
       "    <tr>\n",
       "      <th>1</th>\n",
       "      <td>6</td>\n",
       "      <td>0.237758</td>\n",
       "      <td>0.209375</td>\n",
       "    </tr>\n",
       "    <tr>\n",
       "      <th>2</th>\n",
       "      <td>7</td>\n",
       "      <td>0.225206</td>\n",
       "      <td>0.214625</td>\n",
       "    </tr>\n",
       "    <tr>\n",
       "      <th>3</th>\n",
       "      <td>8</td>\n",
       "      <td>0.233211</td>\n",
       "      <td>0.216125</td>\n",
       "    </tr>\n",
       "    <tr>\n",
       "      <th>4</th>\n",
       "      <td>9</td>\n",
       "      <td>0.228984</td>\n",
       "      <td>0.218375</td>\n",
       "    </tr>\n",
       "    <tr>\n",
       "      <th>...</th>\n",
       "      <td>...</td>\n",
       "      <td>...</td>\n",
       "      <td>...</td>\n",
       "    </tr>\n",
       "    <tr>\n",
       "      <th>90</th>\n",
       "      <td>95</td>\n",
       "      <td>0.233763</td>\n",
       "      <td>0.237250</td>\n",
       "    </tr>\n",
       "    <tr>\n",
       "      <th>91</th>\n",
       "      <td>96</td>\n",
       "      <td>0.237757</td>\n",
       "      <td>0.237125</td>\n",
       "    </tr>\n",
       "    <tr>\n",
       "      <th>92</th>\n",
       "      <td>97</td>\n",
       "      <td>0.247654</td>\n",
       "      <td>0.237750</td>\n",
       "    </tr>\n",
       "    <tr>\n",
       "      <th>93</th>\n",
       "      <td>98</td>\n",
       "      <td>0.240657</td>\n",
       "      <td>0.237875</td>\n",
       "    </tr>\n",
       "    <tr>\n",
       "      <th>94</th>\n",
       "      <td>99</td>\n",
       "      <td>0.250458</td>\n",
       "      <td>0.238500</td>\n",
       "    </tr>\n",
       "  </tbody>\n",
       "</table>\n",
       "<p>95 rows × 3 columns</p>\n",
       "</div>"
      ],
      "text/plain": [
       "    n_neighbors   runtime  mean test score\n",
       "0             5  0.248943         0.209000\n",
       "1             6  0.237758         0.209375\n",
       "2             7  0.225206         0.214625\n",
       "3             8  0.233211         0.216125\n",
       "4             9  0.228984         0.218375\n",
       "..          ...       ...              ...\n",
       "90           95  0.233763         0.237250\n",
       "91           96  0.237757         0.237125\n",
       "92           97  0.247654         0.237750\n",
       "93           98  0.240657         0.237875\n",
       "94           99  0.250458         0.238500\n",
       "\n",
       "[95 rows x 3 columns]"
      ]
     },
     "execution_count": 24,
     "metadata": {},
     "output_type": "execute_result"
    }
   ],
   "source": [
    "# Output the hyperparameter tuning results\n",
    "gs_res = {\n",
    "    'n_neighbors': [gs.cv_results_['params'][i]['n_neighbors'] for i in range(len(gs.cv_results_['params']))],\n",
    "    'runtime': gs.cv_results_['mean_fit_time'] + gs.cv_results_['mean_score_time'],\n",
    "    'mean test score': gs.cv_results_['mean_test_score']\n",
    "}\n",
    "\n",
    "knn2_df = pd.DataFrame(gs_res)\n",
    "knn2_df"
   ]
  },
  {
   "cell_type": "code",
   "execution_count": 25,
   "metadata": {
    "ExecuteTime": {
     "end_time": "2023-05-11T16:57:13.624752Z",
     "start_time": "2023-05-11T16:54:12.641322Z"
    }
   },
   "outputs": [
    {
     "data": {
      "image/png": "[encoded data removed]",
      "text/plain": [
       "<Figure size 432x288 with 1 Axes>"
      ]
     },
     "metadata": {
      "needs_background": "light"
     },
     "output_type": "display_data"
    }
   ],
   "source": [
    "train_acc = []\n",
    "valid_acc = []\n",
    "\n",
    "for i in list(range(5,100)):\n",
    "    clf = KNeighborsClassifier(metric='cosine', n_neighbors=i)\n",
    "    clf.fit(X_train_embedding_label,Y_train_salary_bin)\n",
    "    train_acc.append(clf.score(X_train_embedding_label, Y_train_salary_bin))\n",
    "    valid_acc.append(clf.score(X_valid_embedding, Y_valid_salary_bin))\n",
    "                     \n",
    "figure(figsize=(6,4))\n",
    "x = list(range(5,100))\n",
    "  \n",
    "# Plot Training and Validation accuracy\n",
    "plt.plot(x, train_acc, label = \"Training\")\n",
    "plt.plot(x, valid_acc, label = \"Validation\")\n",
    "\n",
    "plt.title('Accuracy vs $\\it{n\\_neighbor}$ (Embedding)', fontsize=15)\n",
    "plt.ylabel('Accuracy', fontsize=12)\n",
    "plt.xlabel('n_neighbors', fontsize=12, style='italic')\n",
    "plt.legend(['Training', 'Validation'], loc='upper right')\n",
    "plt.show()"
   ]
  },
  {
   "cell_type": "code",
   "execution_count": 26,
   "metadata": {
    "ExecuteTime": {
     "end_time": "2023-05-11T16:57:14.002746Z",
     "start_time": "2023-05-11T16:57:13.626713Z"
    },
    "scrolled": false
   },
   "outputs": [
    {
     "name": "stdout",
     "output_type": "stream",
     "text": [
      "Accuracy for Validation Set: 0.227\n"
     ]
    }
   ],
   "source": [
    "clf = KNeighborsClassifier(metric='cosine', n_neighbors=90)\n",
    "clf.fit(X_train_embedding_label, Y_train_salary_bin)\n",
    "print(\"Accuracy for Validation Set: {}\".format(round(clf.score(X_valid_embedding, Y_valid_salary_bin), 3)))"
   ]
  },
  {
   "cell_type": "markdown",
   "metadata": {},
   "source": [
    "#### Combined"
   ]
  },
  {
   "cell_type": "code",
   "execution_count": 27,
   "metadata": {
    "ExecuteTime": {
     "end_time": "2023-05-11T17:00:40.478390Z",
     "start_time": "2023-05-11T16:57:14.003704Z"
    },
    "scrolled": false
   },
   "outputs": [
    {
     "data": {
      "text/plain": [
       "{'n_neighbors': 67}"
      ]
     },
     "execution_count": 27,
     "metadata": {},
     "output_type": "execute_result"
    }
   ],
   "source": [
    "parameters = [\n",
    "    {'n_neighbors': list(range(5,100))\n",
    "    }\n",
    "]\n",
    "\n",
    "# Search for the best parameters\n",
    "model = KNeighborsClassifier(metric='cosine')\n",
    "gs = GridSearchCV(model, parameters, scoring='accuracy')\n",
    "gs.fit(X_train_combined_label, Y_train_salary_bin)\n",
    "\n",
    "# Best parameters\n",
    "gs.best_params_"
   ]
  },
  {
   "cell_type": "code",
   "execution_count": 28,
   "metadata": {
    "ExecuteTime": {
     "end_time": "2023-05-11T17:00:40.508181Z",
     "start_time": "2023-05-11T17:00:40.480254Z"
    }
   },
   "outputs": [
    {
     "data": {
      "text/html": [
       "<div>\n",
       "<style scoped>\n",
       "    .dataframe tbody tr th:only-of-type {\n",
       "        vertical-align: middle;\n",
       "    }\n",
       "\n",
       "    .dataframe tbody tr th {\n",
       "        vertical-align: top;\n",
       "    }\n",
       "\n",
       "    .dataframe thead th {\n",
       "        text-align: right;\n",
       "    }\n",
       "</style>\n",
       "<table border=\"1\" class=\"dataframe\">\n",
       "  <thead>\n",
       "    <tr style=\"text-align: right;\">\n",
       "      <th></th>\n",
       "      <th>n_neighbors</th>\n",
       "      <th>runtime</th>\n",
       "      <th>mean test score</th>\n",
       "    </tr>\n",
       "  </thead>\n",
       "  <tbody>\n",
       "    <tr>\n",
       "      <th>0</th>\n",
       "      <td>5</td>\n",
       "      <td>0.399310</td>\n",
       "      <td>0.212375</td>\n",
       "    </tr>\n",
       "    <tr>\n",
       "      <th>1</th>\n",
       "      <td>6</td>\n",
       "      <td>0.398072</td>\n",
       "      <td>0.216625</td>\n",
       "    </tr>\n",
       "    <tr>\n",
       "      <th>2</th>\n",
       "      <td>7</td>\n",
       "      <td>0.391559</td>\n",
       "      <td>0.214375</td>\n",
       "    </tr>\n",
       "    <tr>\n",
       "      <th>3</th>\n",
       "      <td>8</td>\n",
       "      <td>0.395589</td>\n",
       "      <td>0.222000</td>\n",
       "    </tr>\n",
       "    <tr>\n",
       "      <th>4</th>\n",
       "      <td>9</td>\n",
       "      <td>0.389611</td>\n",
       "      <td>0.222125</td>\n",
       "    </tr>\n",
       "    <tr>\n",
       "      <th>...</th>\n",
       "      <td>...</td>\n",
       "      <td>...</td>\n",
       "      <td>...</td>\n",
       "    </tr>\n",
       "    <tr>\n",
       "      <th>90</th>\n",
       "      <td>95</td>\n",
       "      <td>0.431180</td>\n",
       "      <td>0.238000</td>\n",
       "    </tr>\n",
       "    <tr>\n",
       "      <th>91</th>\n",
       "      <td>96</td>\n",
       "      <td>0.426460</td>\n",
       "      <td>0.237750</td>\n",
       "    </tr>\n",
       "    <tr>\n",
       "      <th>92</th>\n",
       "      <td>97</td>\n",
       "      <td>0.433050</td>\n",
       "      <td>0.239500</td>\n",
       "    </tr>\n",
       "    <tr>\n",
       "      <th>93</th>\n",
       "      <td>98</td>\n",
       "      <td>0.427938</td>\n",
       "      <td>0.241000</td>\n",
       "    </tr>\n",
       "    <tr>\n",
       "      <th>94</th>\n",
       "      <td>99</td>\n",
       "      <td>0.428860</td>\n",
       "      <td>0.241625</td>\n",
       "    </tr>\n",
       "  </tbody>\n",
       "</table>\n",
       "<p>95 rows × 3 columns</p>\n",
       "</div>"
      ],
      "text/plain": [
       "    n_neighbors   runtime  mean test score\n",
       "0             5  0.399310         0.212375\n",
       "1             6  0.398072         0.216625\n",
       "2             7  0.391559         0.214375\n",
       "3             8  0.395589         0.222000\n",
       "4             9  0.389611         0.222125\n",
       "..          ...       ...              ...\n",
       "90           95  0.431180         0.238000\n",
       "91           96  0.426460         0.237750\n",
       "92           97  0.433050         0.239500\n",
       "93           98  0.427938         0.241000\n",
       "94           99  0.428860         0.241625\n",
       "\n",
       "[95 rows x 3 columns]"
      ]
     },
     "execution_count": 28,
     "metadata": {},
     "output_type": "execute_result"
    }
   ],
   "source": [
    "# Output the hyperparameter tuning results\n",
    "gs_res = {\n",
    "    'n_neighbors': [gs.cv_results_['params'][i]['n_neighbors'] for i in range(len(gs.cv_results_['params']))],\n",
    "    'runtime': gs.cv_results_['mean_fit_time'] + gs.cv_results_['mean_score_time'],\n",
    "    'mean test score': gs.cv_results_['mean_test_score']\n",
    "}\n",
    "\n",
    "knn3_df = pd.DataFrame(gs_res)\n",
    "knn3_df"
   ]
  },
  {
   "cell_type": "code",
   "execution_count": 29,
   "metadata": {
    "ExecuteTime": {
     "end_time": "2023-05-11T17:04:32.769263Z",
     "start_time": "2023-05-11T17:00:40.510174Z"
    }
   },
   "outputs": [
    {
     "data": {
      "image/png": "[encoded data removed]",
      "text/plain": [
       "<Figure size 432x288 with 1 Axes>"
      ]
     },
     "metadata": {
      "needs_background": "light"
     },
     "output_type": "display_data"
    }
   ],
   "source": [
    "train_acc = []\n",
    "valid_acc = []\n",
    "\n",
    "for i in list(range(5,100)):\n",
    "    clf = KNeighborsClassifier(metric='cosine', n_neighbors=i)\n",
    "    clf.fit(X_train_combined_label,Y_train_salary_bin)\n",
    "    train_acc.append(clf.score(X_train_combined_label, Y_train_salary_bin))\n",
    "    valid_acc.append(clf.score(X_valid_combined, Y_valid_salary_bin))\n",
    "                     \n",
    "figure(figsize=(6,4))\n",
    "x = list(range(5,100))\n",
    "  \n",
    "# Plot Training and Validation accuracy\n",
    "plt.plot(x, train_acc, label = \"Training\")\n",
    "plt.plot(x, valid_acc, label = \"Validation\")\n",
    "\n",
    "plt.title('Accuracy vs $\\it{n\\_neighbor}$ (Combined)', fontsize=15)\n",
    "plt.ylabel('Accuracy', fontsize=12)\n",
    "plt.xlabel('n_neighbors', fontsize=12, style='italic')\n",
    "plt.legend(['Training', 'Validation'], loc='upper right')\n",
    "plt.show()"
   ]
  },
  {
   "cell_type": "code",
   "execution_count": 30,
   "metadata": {
    "ExecuteTime": {
     "end_time": "2023-05-11T17:04:33.323755Z",
     "start_time": "2023-05-11T17:04:32.770203Z"
    },
    "scrolled": true
   },
   "outputs": [
    {
     "name": "stdout",
     "output_type": "stream",
     "text": [
      "Accuracy for Validation Set: 0.229\n"
     ]
    }
   ],
   "source": [
    "clf = KNeighborsClassifier(metric='cosine', n_neighbors=67)\n",
    "clf.fit(X_train_combined_label, Y_train_salary_bin)\n",
    "print(\"Accuracy for Validation Set: {}\".format(round(clf.score(X_valid_combined, Y_valid_salary_bin), 3)))"
   ]
  },
  {
   "cell_type": "markdown",
   "metadata": {},
   "source": [
    "#### Combined Scaled"
   ]
  },
  {
   "cell_type": "code",
   "execution_count": 31,
   "metadata": {
    "ExecuteTime": {
     "end_time": "2023-05-11T17:07:55.047597Z",
     "start_time": "2023-05-11T17:04:33.324756Z"
    },
    "scrolled": false
   },
   "outputs": [
    {
     "data": {
      "text/plain": [
       "{'n_neighbors': 51}"
      ]
     },
     "execution_count": 31,
     "metadata": {},
     "output_type": "execute_result"
    }
   ],
   "source": [
    "parameters = [\n",
    "    {'n_neighbors': list(range(5,100)),\n",
    "    }\n",
    "]\n",
    "\n",
    "# Search for the best parameters\n",
    "model = KNeighborsClassifier(metric='cosine')\n",
    "gs = GridSearchCV(model, parameters, scoring='accuracy')\n",
    "gs.fit(X_train_combined_label_scaled, Y_train_salary_bin)\n",
    "\n",
    "# Best parameters\n",
    "gs.best_params_"
   ]
  },
  {
   "cell_type": "code",
   "execution_count": 32,
   "metadata": {
    "ExecuteTime": {
     "end_time": "2023-05-11T17:07:55.063555Z",
     "start_time": "2023-05-11T17:07:55.048562Z"
    }
   },
   "outputs": [
    {
     "data": {
      "text/html": [
       "<div>\n",
       "<style scoped>\n",
       "    .dataframe tbody tr th:only-of-type {\n",
       "        vertical-align: middle;\n",
       "    }\n",
       "\n",
       "    .dataframe tbody tr th {\n",
       "        vertical-align: top;\n",
       "    }\n",
       "\n",
       "    .dataframe thead th {\n",
       "        text-align: right;\n",
       "    }\n",
       "</style>\n",
       "<table border=\"1\" class=\"dataframe\">\n",
       "  <thead>\n",
       "    <tr style=\"text-align: right;\">\n",
       "      <th></th>\n",
       "      <th>n_neighbors</th>\n",
       "      <th>runtime</th>\n",
       "      <th>mean test score</th>\n",
       "    </tr>\n",
       "  </thead>\n",
       "  <tbody>\n",
       "    <tr>\n",
       "      <th>0</th>\n",
       "      <td>5</td>\n",
       "      <td>0.415932</td>\n",
       "      <td>0.215625</td>\n",
       "    </tr>\n",
       "    <tr>\n",
       "      <th>1</th>\n",
       "      <td>6</td>\n",
       "      <td>0.426035</td>\n",
       "      <td>0.217250</td>\n",
       "    </tr>\n",
       "    <tr>\n",
       "      <th>2</th>\n",
       "      <td>7</td>\n",
       "      <td>0.466485</td>\n",
       "      <td>0.222875</td>\n",
       "    </tr>\n",
       "    <tr>\n",
       "      <th>3</th>\n",
       "      <td>8</td>\n",
       "      <td>0.437417</td>\n",
       "      <td>0.223750</td>\n",
       "    </tr>\n",
       "    <tr>\n",
       "      <th>4</th>\n",
       "      <td>9</td>\n",
       "      <td>0.439590</td>\n",
       "      <td>0.223875</td>\n",
       "    </tr>\n",
       "    <tr>\n",
       "      <th>...</th>\n",
       "      <td>...</td>\n",
       "      <td>...</td>\n",
       "      <td>...</td>\n",
       "    </tr>\n",
       "    <tr>\n",
       "      <th>90</th>\n",
       "      <td>95</td>\n",
       "      <td>0.436071</td>\n",
       "      <td>0.246250</td>\n",
       "    </tr>\n",
       "    <tr>\n",
       "      <th>91</th>\n",
       "      <td>96</td>\n",
       "      <td>0.434165</td>\n",
       "      <td>0.247625</td>\n",
       "    </tr>\n",
       "    <tr>\n",
       "      <th>92</th>\n",
       "      <td>97</td>\n",
       "      <td>0.436034</td>\n",
       "      <td>0.249500</td>\n",
       "    </tr>\n",
       "    <tr>\n",
       "      <th>93</th>\n",
       "      <td>98</td>\n",
       "      <td>0.439034</td>\n",
       "      <td>0.249625</td>\n",
       "    </tr>\n",
       "    <tr>\n",
       "      <th>94</th>\n",
       "      <td>99</td>\n",
       "      <td>0.436269</td>\n",
       "      <td>0.250125</td>\n",
       "    </tr>\n",
       "  </tbody>\n",
       "</table>\n",
       "<p>95 rows × 3 columns</p>\n",
       "</div>"
      ],
      "text/plain": [
       "    n_neighbors   runtime  mean test score\n",
       "0             5  0.415932         0.215625\n",
       "1             6  0.426035         0.217250\n",
       "2             7  0.466485         0.222875\n",
       "3             8  0.437417         0.223750\n",
       "4             9  0.439590         0.223875\n",
       "..          ...       ...              ...\n",
       "90           95  0.436071         0.246250\n",
       "91           96  0.434165         0.247625\n",
       "92           97  0.436034         0.249500\n",
       "93           98  0.439034         0.249625\n",
       "94           99  0.436269         0.250125\n",
       "\n",
       "[95 rows x 3 columns]"
      ]
     },
     "execution_count": 32,
     "metadata": {},
     "output_type": "execute_result"
    }
   ],
   "source": [
    "# Output the hyperparameter tuning results\n",
    "gs_res = {\n",
    "    'n_neighbors': [gs.cv_results_['params'][i]['n_neighbors'] for i in range(len(gs.cv_results_['params']))],\n",
    "    'runtime': gs.cv_results_['mean_fit_time'] + gs.cv_results_['mean_score_time'],\n",
    "    'mean test score': gs.cv_results_['mean_test_score']\n",
    "}\n",
    "\n",
    "knn4_df = pd.DataFrame(gs_res)\n",
    "knn4_df"
   ]
  },
  {
   "cell_type": "code",
   "execution_count": 41,
   "metadata": {},
   "outputs": [
    {
     "data": {
      "text/html": [
       "<div>\n",
       "<style scoped>\n",
       "    .dataframe tbody tr th:only-of-type {\n",
       "        vertical-align: middle;\n",
       "    }\n",
       "\n",
       "    .dataframe tbody tr th {\n",
       "        vertical-align: top;\n",
       "    }\n",
       "\n",
       "    .dataframe thead th {\n",
       "        text-align: right;\n",
       "    }\n",
       "</style>\n",
       "<table border=\"1\" class=\"dataframe\">\n",
       "  <thead>\n",
       "    <tr style=\"text-align: right;\">\n",
       "      <th></th>\n",
       "      <th>n_neighbors</th>\n",
       "      <th>runtime</th>\n",
       "      <th>mean test score</th>\n",
       "    </tr>\n",
       "  </thead>\n",
       "  <tbody>\n",
       "    <tr>\n",
       "      <th>46</th>\n",
       "      <td>51</td>\n",
       "      <td>0.489736</td>\n",
       "      <td>0.25525</td>\n",
       "    </tr>\n",
       "  </tbody>\n",
       "</table>\n",
       "</div>"
      ],
      "text/plain": [
       "    n_neighbors   runtime  mean test score\n",
       "46           51  0.489736          0.25525"
      ]
     },
     "execution_count": 41,
     "metadata": {},
     "output_type": "execute_result"
    }
   ],
   "source": [
    "# Retrieve runtime when 'n_neighbors' = 51\n",
    "knn4_df[46:47]"
   ]
  },
  {
   "cell_type": "code",
   "execution_count": 33,
   "metadata": {
    "ExecuteTime": {
     "end_time": "2023-05-11T17:11:42.811348Z",
     "start_time": "2023-05-11T17:07:55.065518Z"
    }
   },
   "outputs": [
    {
     "data": {
      "image/png": "[encoded data removed]",
      "text/plain": [
       "<Figure size 432x288 with 1 Axes>"
      ]
     },
     "metadata": {
      "needs_background": "light"
     },
     "output_type": "display_data"
    }
   ],
   "source": [
    "train_acc = []\n",
    "valid_acc = []\n",
    "\n",
    "for i in list(range(5,100)):\n",
    "    clf = KNeighborsClassifier(metric='cosine', n_neighbors=i)\n",
    "    clf.fit(X_train_combined_label_scaled,Y_train_salary_bin)\n",
    "    train_acc.append(clf.score(X_train_combined_label_scaled, Y_train_salary_bin))\n",
    "    valid_acc.append(clf.score(X_valid_combined_scaled, Y_valid_salary_bin))\n",
    "                     \n",
    "figure(figsize=(6, 4))\n",
    "x = list(range(5,100))\n",
    "  \n",
    "# Plot Training and Validation accuracy\n",
    "plt.plot(x, train_acc, label = \"Training\")\n",
    "plt.plot(x, valid_acc, label = \"Validation\")\n",
    "\n",
    "plt.title('Accuracy vs $\\it{n\\_neighbor}$ (Combined Scaled)', fontsize=15)\n",
    "plt.ylabel('Accuracy', fontsize=12)\n",
    "plt.xlabel('n_neighbors', fontsize=12, style='italic')\n",
    "plt.legend(['Training', 'Validation'], loc='upper right')\n",
    "plt.show()"
   ]
  },
  {
   "cell_type": "code",
   "execution_count": 36,
   "metadata": {
    "ExecuteTime": {
     "end_time": "2023-05-11T17:11:43.404757Z",
     "start_time": "2023-05-11T17:11:42.812333Z"
    }
   },
   "outputs": [
    {
     "name": "stdout",
     "output_type": "stream",
     "text": [
      "Accuracy for Validation Set: 0.25\n"
     ]
    }
   ],
   "source": [
    "clf = KNeighborsClassifier(metric='cosine', n_neighbors=51)\n",
    "clf.fit(X_train_combined_label_scaled, Y_train_salary_bin)\n",
    "print(\"Accuracy for Validation Set: {}\".format(round(clf.score(X_valid_combined_scaled, Y_valid_salary_bin), 3)))"
   ]
  },
  {
   "cell_type": "code",
   "execution_count": 37,
   "metadata": {
    "ExecuteTime": {
     "end_time": "2023-05-11T17:11:43.941294Z",
     "start_time": "2023-05-11T17:11:43.406724Z"
    },
    "scrolled": false
   },
   "outputs": [
    {
     "name": "stdout",
     "output_type": "stream",
     "text": [
      "KNeighborsClassifier (Combined Scaled)\n",
      "              precision    recall  f1-score   support\n",
      "\n",
      "           0       0.38      0.63      0.47       180\n",
      "           1       0.22      0.27      0.25       142\n",
      "           2       0.17      0.17      0.17       181\n",
      "           3       0.21      0.18      0.20       190\n",
      "           4       0.20      0.13      0.16       201\n",
      "           5       0.20      0.09      0.12       150\n",
      "           6       0.18      0.17      0.18       178\n",
      "           7       0.24      0.20      0.22       171\n",
      "           8       0.24      0.15      0.18       171\n",
      "           9       0.29      0.50      0.36       173\n",
      "\n",
      "    accuracy                           0.25      1737\n",
      "   macro avg       0.23      0.25      0.23      1737\n",
      "weighted avg       0.23      0.25      0.23      1737\n",
      "\n"
     ]
    }
   ],
   "source": [
    "Y_pred = clf.predict(X_valid_combined_scaled)\n",
    "\n",
    "print(\"KNeighborsClassifier (Combined Scaled)\")\n",
    "print(classification_report(Y_valid_salary_bin, Y_pred))"
   ]
  },
  {
   "cell_type": "markdown",
   "metadata": {},
   "source": [
    "### Random Forest"
   ]
  },
  {
   "cell_type": "markdown",
   "metadata": {
    "ExecuteTime": {
     "end_time": "2023-05-07T12:58:21.365917Z",
     "start_time": "2023-05-07T12:58:21.357938Z"
    }
   },
   "source": [
    "For random forest, the hyperparameters to be tuned include:\n",
    "- **n_estimators:** the number of trees\n",
    "- **max_depth:** the maximum depth of the tree"
   ]
  },
  {
   "cell_type": "markdown",
   "metadata": {},
   "source": [
    "#### TFIDF"
   ]
  },
  {
   "cell_type": "code",
   "execution_count": 35,
   "metadata": {
    "ExecuteTime": {
     "end_time": "2023-05-10T18:31:47.406066Z",
     "start_time": "2023-05-10T18:00:54.419908Z"
    }
   },
   "outputs": [
    {
     "data": {
      "text/plain": [
       "{'max_depth': 30, 'n_estimators': 500}"
      ]
     },
     "execution_count": 35,
     "metadata": {},
     "output_type": "execute_result"
    }
   ],
   "source": [
    "from sklearn.ensemble import RandomForestClassifier\n",
    "\n",
    "parameters = [\n",
    "    {'n_estimators': [100, 200, 300, 400, 500],\n",
    "     'max_depth': [10, 20, 30, 40, 50],\n",
    "    }\n",
    "]\n",
    "\n",
    "# Search for the best parameters\n",
    "model = RandomForestClassifier(criterion='entropy')\n",
    "gs = GridSearchCV(model, parameters, scoring='accuracy')\n",
    "gs.fit(X_train_tfidf_label, Y_train_salary_bin)\n",
    "\n",
    "# Best parameters\n",
    "gs.best_params_"
   ]
  },
  {
   "cell_type": "code",
   "execution_count": 36,
   "metadata": {
    "ExecuteTime": {
     "end_time": "2023-05-10T18:31:47.437373Z",
     "start_time": "2023-05-10T18:31:47.407029Z"
    }
   },
   "outputs": [
    {
     "data": {
      "text/html": [
       "<div>\n",
       "<style scoped>\n",
       "    .dataframe tbody tr th:only-of-type {\n",
       "        vertical-align: middle;\n",
       "    }\n",
       "\n",
       "    .dataframe tbody tr th {\n",
       "        vertical-align: top;\n",
       "    }\n",
       "\n",
       "    .dataframe thead th {\n",
       "        text-align: right;\n",
       "    }\n",
       "</style>\n",
       "<table border=\"1\" class=\"dataframe\">\n",
       "  <thead>\n",
       "    <tr style=\"text-align: right;\">\n",
       "      <th></th>\n",
       "      <th>n_estimators</th>\n",
       "      <th>max_depth</th>\n",
       "      <th>runtime</th>\n",
       "      <th>mean test score</th>\n",
       "    </tr>\n",
       "  </thead>\n",
       "  <tbody>\n",
       "    <tr>\n",
       "      <th>0</th>\n",
       "      <td>100</td>\n",
       "      <td>10</td>\n",
       "      <td>3.011891</td>\n",
       "      <td>0.238000</td>\n",
       "    </tr>\n",
       "    <tr>\n",
       "      <th>1</th>\n",
       "      <td>200</td>\n",
       "      <td>10</td>\n",
       "      <td>6.305823</td>\n",
       "      <td>0.235000</td>\n",
       "    </tr>\n",
       "    <tr>\n",
       "      <th>2</th>\n",
       "      <td>300</td>\n",
       "      <td>10</td>\n",
       "      <td>9.357577</td>\n",
       "      <td>0.239125</td>\n",
       "    </tr>\n",
       "    <tr>\n",
       "      <th>3</th>\n",
       "      <td>400</td>\n",
       "      <td>10</td>\n",
       "      <td>12.513234</td>\n",
       "      <td>0.241500</td>\n",
       "    </tr>\n",
       "    <tr>\n",
       "      <th>4</th>\n",
       "      <td>500</td>\n",
       "      <td>10</td>\n",
       "      <td>15.614153</td>\n",
       "      <td>0.241375</td>\n",
       "    </tr>\n",
       "    <tr>\n",
       "      <th>5</th>\n",
       "      <td>100</td>\n",
       "      <td>20</td>\n",
       "      <td>4.991513</td>\n",
       "      <td>0.245875</td>\n",
       "    </tr>\n",
       "    <tr>\n",
       "      <th>6</th>\n",
       "      <td>200</td>\n",
       "      <td>20</td>\n",
       "      <td>9.589521</td>\n",
       "      <td>0.249625</td>\n",
       "    </tr>\n",
       "    <tr>\n",
       "      <th>7</th>\n",
       "      <td>300</td>\n",
       "      <td>20</td>\n",
       "      <td>14.274159</td>\n",
       "      <td>0.250750</td>\n",
       "    </tr>\n",
       "    <tr>\n",
       "      <th>8</th>\n",
       "      <td>400</td>\n",
       "      <td>20</td>\n",
       "      <td>19.177044</td>\n",
       "      <td>0.253250</td>\n",
       "    </tr>\n",
       "    <tr>\n",
       "      <th>9</th>\n",
       "      <td>500</td>\n",
       "      <td>20</td>\n",
       "      <td>23.883723</td>\n",
       "      <td>0.251375</td>\n",
       "    </tr>\n",
       "    <tr>\n",
       "      <th>10</th>\n",
       "      <td>100</td>\n",
       "      <td>30</td>\n",
       "      <td>5.466314</td>\n",
       "      <td>0.244250</td>\n",
       "    </tr>\n",
       "    <tr>\n",
       "      <th>11</th>\n",
       "      <td>200</td>\n",
       "      <td>30</td>\n",
       "      <td>10.884110</td>\n",
       "      <td>0.249000</td>\n",
       "    </tr>\n",
       "    <tr>\n",
       "      <th>12</th>\n",
       "      <td>300</td>\n",
       "      <td>30</td>\n",
       "      <td>16.429747</td>\n",
       "      <td>0.249250</td>\n",
       "    </tr>\n",
       "    <tr>\n",
       "      <th>13</th>\n",
       "      <td>400</td>\n",
       "      <td>30</td>\n",
       "      <td>21.880147</td>\n",
       "      <td>0.256125</td>\n",
       "    </tr>\n",
       "    <tr>\n",
       "      <th>14</th>\n",
       "      <td>500</td>\n",
       "      <td>30</td>\n",
       "      <td>27.309788</td>\n",
       "      <td>0.256750</td>\n",
       "    </tr>\n",
       "    <tr>\n",
       "      <th>15</th>\n",
       "      <td>100</td>\n",
       "      <td>40</td>\n",
       "      <td>5.726381</td>\n",
       "      <td>0.243375</td>\n",
       "    </tr>\n",
       "    <tr>\n",
       "      <th>16</th>\n",
       "      <td>200</td>\n",
       "      <td>40</td>\n",
       "      <td>11.807441</td>\n",
       "      <td>0.246875</td>\n",
       "    </tr>\n",
       "    <tr>\n",
       "      <th>17</th>\n",
       "      <td>300</td>\n",
       "      <td>40</td>\n",
       "      <td>16.450993</td>\n",
       "      <td>0.251000</td>\n",
       "    </tr>\n",
       "    <tr>\n",
       "      <th>18</th>\n",
       "      <td>400</td>\n",
       "      <td>40</td>\n",
       "      <td>21.099716</td>\n",
       "      <td>0.250500</td>\n",
       "    </tr>\n",
       "    <tr>\n",
       "      <th>19</th>\n",
       "      <td>500</td>\n",
       "      <td>40</td>\n",
       "      <td>26.248764</td>\n",
       "      <td>0.249375</td>\n",
       "    </tr>\n",
       "    <tr>\n",
       "      <th>20</th>\n",
       "      <td>100</td>\n",
       "      <td>50</td>\n",
       "      <td>5.395163</td>\n",
       "      <td>0.247375</td>\n",
       "    </tr>\n",
       "    <tr>\n",
       "      <th>21</th>\n",
       "      <td>200</td>\n",
       "      <td>50</td>\n",
       "      <td>10.785226</td>\n",
       "      <td>0.253750</td>\n",
       "    </tr>\n",
       "    <tr>\n",
       "      <th>22</th>\n",
       "      <td>300</td>\n",
       "      <td>50</td>\n",
       "      <td>16.222749</td>\n",
       "      <td>0.253125</td>\n",
       "    </tr>\n",
       "    <tr>\n",
       "      <th>23</th>\n",
       "      <td>400</td>\n",
       "      <td>50</td>\n",
       "      <td>21.763813</td>\n",
       "      <td>0.252125</td>\n",
       "    </tr>\n",
       "    <tr>\n",
       "      <th>24</th>\n",
       "      <td>500</td>\n",
       "      <td>50</td>\n",
       "      <td>27.286890</td>\n",
       "      <td>0.254750</td>\n",
       "    </tr>\n",
       "  </tbody>\n",
       "</table>\n",
       "</div>"
      ],
      "text/plain": [
       "    n_estimators  max_depth    runtime  mean test score\n",
       "0            100         10   3.011891         0.238000\n",
       "1            200         10   6.305823         0.235000\n",
       "2            300         10   9.357577         0.239125\n",
       "3            400         10  12.513234         0.241500\n",
       "4            500         10  15.614153         0.241375\n",
       "5            100         20   4.991513         0.245875\n",
       "6            200         20   9.589521         0.249625\n",
       "7            300         20  14.274159         0.250750\n",
       "8            400         20  19.177044         0.253250\n",
       "9            500         20  23.883723         0.251375\n",
       "10           100         30   5.466314         0.244250\n",
       "11           200         30  10.884110         0.249000\n",
       "12           300         30  16.429747         0.249250\n",
       "13           400         30  21.880147         0.256125\n",
       "14           500         30  27.309788         0.256750\n",
       "15           100         40   5.726381         0.243375\n",
       "16           200         40  11.807441         0.246875\n",
       "17           300         40  16.450993         0.251000\n",
       "18           400         40  21.099716         0.250500\n",
       "19           500         40  26.248764         0.249375\n",
       "20           100         50   5.395163         0.247375\n",
       "21           200         50  10.785226         0.253750\n",
       "22           300         50  16.222749         0.253125\n",
       "23           400         50  21.763813         0.252125\n",
       "24           500         50  27.286890         0.254750"
      ]
     },
     "execution_count": 36,
     "metadata": {},
     "output_type": "execute_result"
    }
   ],
   "source": [
    "# Output the hyperparameter tuning results\n",
    "gs_res = {\n",
    "    'n_estimators': [gs.cv_results_['params'][i]['n_estimators'] for i in range(len(gs.cv_results_['params']))],\n",
    "    'max_depth': [gs.cv_results_['params'][i]['max_depth'] for i in range(len(gs.cv_results_['params']))],\n",
    "    'runtime': gs.cv_results_['mean_fit_time'] + gs.cv_results_['mean_score_time'],\n",
    "    'mean test score': gs.cv_results_['mean_test_score']\n",
    "}\n",
    "\n",
    "rf1_df = pd.DataFrame(gs_res)\n",
    "rf1_df"
   ]
  },
  {
   "cell_type": "code",
   "execution_count": 37,
   "metadata": {
    "ExecuteTime": {
     "end_time": "2023-05-10T18:32:20.483322Z",
     "start_time": "2023-05-10T18:31:47.438365Z"
    }
   },
   "outputs": [
    {
     "name": "stdout",
     "output_type": "stream",
     "text": [
      "Accuracy for Validation Set: 0.253\n"
     ]
    }
   ],
   "source": [
    "clf = RandomForestClassifier(criterion='entropy', max_depth=30, n_estimators=500)\n",
    "clf.fit(X_train_tfidf_label, Y_train_salary_bin)\n",
    "print(\"Accuracy for Validation Set: {}\".format(round(clf.score(X_valid_tfidf, Y_valid_salary_bin), 3)))"
   ]
  },
  {
   "cell_type": "code",
   "execution_count": 38,
   "metadata": {
    "ExecuteTime": {
     "end_time": "2023-05-10T18:32:20.656459Z",
     "start_time": "2023-05-10T18:32:20.485046Z"
    }
   },
   "outputs": [
    {
     "data": {
      "image/png": "[encoded data removed]",
      "text/plain": [
       "<Figure size 432x288 with 1 Axes>"
      ]
     },
     "metadata": {
      "needs_background": "light"
     },
     "output_type": "display_data"
    }
   ],
   "source": [
    "# https://scikit-learn.org/stable/auto_examples/ensemble/plot_forest_importances.html\n",
    "# Feature importances are provided by the fitted attribute feature_importances_ \n",
    "# and they are computed as the mean and standard deviation of accumulation of the impurity decrease within each tree.\n",
    "# Search for the Top 10 words in \"tfidf_words.csv\"\n",
    "\n",
    "# Calculate feature importances\n",
    "importances = clf.feature_importances_\n",
    "\n",
    "# Sort feature importances in descending order and take the first 20 features\n",
    "indices = np.argsort(importances)[::-1][:10]\n",
    "\n",
    "df_tfidf_words = pd.read_csv('tfidf_words.csv', header=None)\n",
    "tfidf_words = df_tfidf_words[0].values\n",
    "\n",
    "# Rearrange feature names so they match the sorted feature importances\n",
    "features = [tfidf_words[i] for i in indices]\n",
    "\n",
    "# Create a plot\n",
    "plt.figure()\n",
    "plt.bar(range(10), importances[indices])\n",
    "plt.xticks(range(10), features, rotation=45, ha='right', fontsize=12)\n",
    "plt.title(\"Feature Importance\", fontsize=15)\n",
    "plt.show()"
   ]
  },
  {
   "cell_type": "markdown",
   "metadata": {},
   "source": [
    "#### Embedding"
   ]
  },
  {
   "cell_type": "code",
   "execution_count": 40,
   "metadata": {
    "ExecuteTime": {
     "end_time": "2023-05-10T21:21:35.112061Z",
     "start_time": "2023-05-10T18:32:54.074542Z"
    }
   },
   "outputs": [
    {
     "data": {
      "text/plain": [
       "{'max_depth': 20, 'n_estimators': 400}"
      ]
     },
     "execution_count": 40,
     "metadata": {},
     "output_type": "execute_result"
    }
   ],
   "source": [
    "parameters = [\n",
    "    {'n_estimators': [100, 200, 300, 400, 500],\n",
    "     'max_depth': [10, 20, 30, 40, 50],\n",
    "    }\n",
    "]\n",
    "\n",
    "# Search for the best parameters\n",
    "model = RandomForestClassifier(criterion='entropy')\n",
    "gs = GridSearchCV(model, parameters, scoring='accuracy')\n",
    "gs.fit(X_train_embedding_label, Y_train_salary_bin)\n",
    "\n",
    "# Best parameters\n",
    "gs.best_params_"
   ]
  },
  {
   "cell_type": "code",
   "execution_count": 41,
   "metadata": {
    "ExecuteTime": {
     "end_time": "2023-05-10T21:21:35.127993Z",
     "start_time": "2023-05-10T21:21:35.113030Z"
    }
   },
   "outputs": [
    {
     "data": {
      "text/html": [
       "<div>\n",
       "<style scoped>\n",
       "    .dataframe tbody tr th:only-of-type {\n",
       "        vertical-align: middle;\n",
       "    }\n",
       "\n",
       "    .dataframe tbody tr th {\n",
       "        vertical-align: top;\n",
       "    }\n",
       "\n",
       "    .dataframe thead th {\n",
       "        text-align: right;\n",
       "    }\n",
       "</style>\n",
       "<table border=\"1\" class=\"dataframe\">\n",
       "  <thead>\n",
       "    <tr style=\"text-align: right;\">\n",
       "      <th></th>\n",
       "      <th>n_estimators</th>\n",
       "      <th>max_depth</th>\n",
       "      <th>runtime</th>\n",
       "      <th>mean test score</th>\n",
       "    </tr>\n",
       "  </thead>\n",
       "  <tbody>\n",
       "    <tr>\n",
       "      <th>0</th>\n",
       "      <td>100</td>\n",
       "      <td>10</td>\n",
       "      <td>25.583026</td>\n",
       "      <td>0.232000</td>\n",
       "    </tr>\n",
       "    <tr>\n",
       "      <th>1</th>\n",
       "      <td>200</td>\n",
       "      <td>10</td>\n",
       "      <td>48.128862</td>\n",
       "      <td>0.240000</td>\n",
       "    </tr>\n",
       "    <tr>\n",
       "      <th>2</th>\n",
       "      <td>300</td>\n",
       "      <td>10</td>\n",
       "      <td>71.891213</td>\n",
       "      <td>0.251625</td>\n",
       "    </tr>\n",
       "    <tr>\n",
       "      <th>3</th>\n",
       "      <td>400</td>\n",
       "      <td>10</td>\n",
       "      <td>96.664573</td>\n",
       "      <td>0.253250</td>\n",
       "    </tr>\n",
       "    <tr>\n",
       "      <th>4</th>\n",
       "      <td>500</td>\n",
       "      <td>10</td>\n",
       "      <td>121.265853</td>\n",
       "      <td>0.248875</td>\n",
       "    </tr>\n",
       "    <tr>\n",
       "      <th>5</th>\n",
       "      <td>100</td>\n",
       "      <td>20</td>\n",
       "      <td>27.374081</td>\n",
       "      <td>0.240250</td>\n",
       "    </tr>\n",
       "    <tr>\n",
       "      <th>6</th>\n",
       "      <td>200</td>\n",
       "      <td>20</td>\n",
       "      <td>55.031476</td>\n",
       "      <td>0.244375</td>\n",
       "    </tr>\n",
       "    <tr>\n",
       "      <th>7</th>\n",
       "      <td>300</td>\n",
       "      <td>20</td>\n",
       "      <td>82.289598</td>\n",
       "      <td>0.246375</td>\n",
       "    </tr>\n",
       "    <tr>\n",
       "      <th>8</th>\n",
       "      <td>400</td>\n",
       "      <td>20</td>\n",
       "      <td>108.702344</td>\n",
       "      <td>0.257000</td>\n",
       "    </tr>\n",
       "    <tr>\n",
       "      <th>9</th>\n",
       "      <td>500</td>\n",
       "      <td>20</td>\n",
       "      <td>135.546203</td>\n",
       "      <td>0.253250</td>\n",
       "    </tr>\n",
       "    <tr>\n",
       "      <th>10</th>\n",
       "      <td>100</td>\n",
       "      <td>30</td>\n",
       "      <td>27.247251</td>\n",
       "      <td>0.236125</td>\n",
       "    </tr>\n",
       "    <tr>\n",
       "      <th>11</th>\n",
       "      <td>200</td>\n",
       "      <td>30</td>\n",
       "      <td>54.279252</td>\n",
       "      <td>0.244750</td>\n",
       "    </tr>\n",
       "    <tr>\n",
       "      <th>12</th>\n",
       "      <td>300</td>\n",
       "      <td>30</td>\n",
       "      <td>81.279666</td>\n",
       "      <td>0.248125</td>\n",
       "    </tr>\n",
       "    <tr>\n",
       "      <th>13</th>\n",
       "      <td>400</td>\n",
       "      <td>30</td>\n",
       "      <td>108.640400</td>\n",
       "      <td>0.250250</td>\n",
       "    </tr>\n",
       "    <tr>\n",
       "      <th>14</th>\n",
       "      <td>500</td>\n",
       "      <td>30</td>\n",
       "      <td>136.263134</td>\n",
       "      <td>0.254875</td>\n",
       "    </tr>\n",
       "    <tr>\n",
       "      <th>15</th>\n",
       "      <td>100</td>\n",
       "      <td>40</td>\n",
       "      <td>27.125837</td>\n",
       "      <td>0.237250</td>\n",
       "    </tr>\n",
       "    <tr>\n",
       "      <th>16</th>\n",
       "      <td>200</td>\n",
       "      <td>40</td>\n",
       "      <td>54.624328</td>\n",
       "      <td>0.247125</td>\n",
       "    </tr>\n",
       "    <tr>\n",
       "      <th>17</th>\n",
       "      <td>300</td>\n",
       "      <td>40</td>\n",
       "      <td>81.780732</td>\n",
       "      <td>0.246500</td>\n",
       "    </tr>\n",
       "    <tr>\n",
       "      <th>18</th>\n",
       "      <td>400</td>\n",
       "      <td>40</td>\n",
       "      <td>108.084384</td>\n",
       "      <td>0.253000</td>\n",
       "    </tr>\n",
       "    <tr>\n",
       "      <th>19</th>\n",
       "      <td>500</td>\n",
       "      <td>40</td>\n",
       "      <td>135.179273</td>\n",
       "      <td>0.249625</td>\n",
       "    </tr>\n",
       "    <tr>\n",
       "      <th>20</th>\n",
       "      <td>100</td>\n",
       "      <td>50</td>\n",
       "      <td>27.091914</td>\n",
       "      <td>0.240125</td>\n",
       "    </tr>\n",
       "    <tr>\n",
       "      <th>21</th>\n",
       "      <td>200</td>\n",
       "      <td>50</td>\n",
       "      <td>54.136922</td>\n",
       "      <td>0.245000</td>\n",
       "    </tr>\n",
       "    <tr>\n",
       "      <th>22</th>\n",
       "      <td>300</td>\n",
       "      <td>50</td>\n",
       "      <td>81.427623</td>\n",
       "      <td>0.250125</td>\n",
       "    </tr>\n",
       "    <tr>\n",
       "      <th>23</th>\n",
       "      <td>400</td>\n",
       "      <td>50</td>\n",
       "      <td>109.008223</td>\n",
       "      <td>0.251375</td>\n",
       "    </tr>\n",
       "    <tr>\n",
       "      <th>24</th>\n",
       "      <td>500</td>\n",
       "      <td>50</td>\n",
       "      <td>136.248997</td>\n",
       "      <td>0.253125</td>\n",
       "    </tr>\n",
       "  </tbody>\n",
       "</table>\n",
       "</div>"
      ],
      "text/plain": [
       "    n_estimators  max_depth     runtime  mean test score\n",
       "0            100         10   25.583026         0.232000\n",
       "1            200         10   48.128862         0.240000\n",
       "2            300         10   71.891213         0.251625\n",
       "3            400         10   96.664573         0.253250\n",
       "4            500         10  121.265853         0.248875\n",
       "5            100         20   27.374081         0.240250\n",
       "6            200         20   55.031476         0.244375\n",
       "7            300         20   82.289598         0.246375\n",
       "8            400         20  108.702344         0.257000\n",
       "9            500         20  135.546203         0.253250\n",
       "10           100         30   27.247251         0.236125\n",
       "11           200         30   54.279252         0.244750\n",
       "12           300         30   81.279666         0.248125\n",
       "13           400         30  108.640400         0.250250\n",
       "14           500         30  136.263134         0.254875\n",
       "15           100         40   27.125837         0.237250\n",
       "16           200         40   54.624328         0.247125\n",
       "17           300         40   81.780732         0.246500\n",
       "18           400         40  108.084384         0.253000\n",
       "19           500         40  135.179273         0.249625\n",
       "20           100         50   27.091914         0.240125\n",
       "21           200         50   54.136922         0.245000\n",
       "22           300         50   81.427623         0.250125\n",
       "23           400         50  109.008223         0.251375\n",
       "24           500         50  136.248997         0.253125"
      ]
     },
     "execution_count": 41,
     "metadata": {},
     "output_type": "execute_result"
    }
   ],
   "source": [
    "# Output the hyperparameter tuning results\n",
    "gs_res = {\n",
    "    'n_estimators': [gs.cv_results_['params'][i]['n_estimators'] for i in range(len(gs.cv_results_['params']))],\n",
    "    'max_depth': [gs.cv_results_['params'][i]['max_depth'] for i in range(len(gs.cv_results_['params']))],\n",
    "    'runtime': gs.cv_results_['mean_fit_time'] + gs.cv_results_['mean_score_time'],\n",
    "    'mean test score': gs.cv_results_['mean_test_score']\n",
    "}\n",
    "\n",
    "rf2_df = pd.DataFrame(gs_res)\n",
    "rf2_df"
   ]
  },
  {
   "cell_type": "code",
   "execution_count": 36,
   "metadata": {
    "ExecuteTime": {
     "end_time": "2023-05-11T17:25:28.901131Z",
     "start_time": "2023-05-11T17:22:52.152597Z"
    }
   },
   "outputs": [
    {
     "name": "stdout",
     "output_type": "stream",
     "text": [
      "Accuracy for Validation Set: 0.251\n"
     ]
    }
   ],
   "source": [
    "clf = RandomForestClassifier(criterion='entropy', max_depth=20, n_estimators=400)\n",
    "clf.fit(X_train_embedding_label, Y_train_salary_bin)\n",
    "print(\"Accuracy for Validation Set: {}\".format(round(clf.score(X_valid_embedding, Y_valid_salary_bin), 3)))"
   ]
  },
  {
   "cell_type": "markdown",
   "metadata": {},
   "source": [
    "#### Combined"
   ]
  },
  {
   "cell_type": "code",
   "execution_count": 43,
   "metadata": {
    "ExecuteTime": {
     "end_time": "2023-05-10T23:37:09.563980Z",
     "start_time": "2023-05-10T21:24:32.580923Z"
    }
   },
   "outputs": [
    {
     "data": {
      "text/plain": [
       "{'max_depth': 30, 'n_estimators': 500}"
      ]
     },
     "execution_count": 43,
     "metadata": {},
     "output_type": "execute_result"
    }
   ],
   "source": [
    "parameters = [\n",
    "    {'n_estimators': [100, 200, 300, 400, 500],\n",
    "     'max_depth': [10, 20, 30, 40, 50],\n",
    "    }\n",
    "]\n",
    "\n",
    "# Search for the best parameters\n",
    "model = RandomForestClassifier(criterion='entropy')\n",
    "gs = GridSearchCV(model, parameters, scoring='accuracy')\n",
    "gs.fit(X_train_combined_label, Y_train_salary_bin)\n",
    "\n",
    "# Best parameters\n",
    "gs.best_params_"
   ]
  },
  {
   "cell_type": "code",
   "execution_count": 44,
   "metadata": {
    "ExecuteTime": {
     "end_time": "2023-05-10T23:37:09.595885Z",
     "start_time": "2023-05-10T23:37:09.566939Z"
    }
   },
   "outputs": [
    {
     "data": {
      "text/html": [
       "<div>\n",
       "<style scoped>\n",
       "    .dataframe tbody tr th:only-of-type {\n",
       "        vertical-align: middle;\n",
       "    }\n",
       "\n",
       "    .dataframe tbody tr th {\n",
       "        vertical-align: top;\n",
       "    }\n",
       "\n",
       "    .dataframe thead th {\n",
       "        text-align: right;\n",
       "    }\n",
       "</style>\n",
       "<table border=\"1\" class=\"dataframe\">\n",
       "  <thead>\n",
       "    <tr style=\"text-align: right;\">\n",
       "      <th></th>\n",
       "      <th>n_estimators</th>\n",
       "      <th>max_depth</th>\n",
       "      <th>runtime</th>\n",
       "      <th>mean test score</th>\n",
       "    </tr>\n",
       "  </thead>\n",
       "  <tbody>\n",
       "    <tr>\n",
       "      <th>0</th>\n",
       "      <td>100</td>\n",
       "      <td>10</td>\n",
       "      <td>18.434633</td>\n",
       "      <td>0.242125</td>\n",
       "    </tr>\n",
       "    <tr>\n",
       "      <th>1</th>\n",
       "      <td>200</td>\n",
       "      <td>10</td>\n",
       "      <td>36.899385</td>\n",
       "      <td>0.249000</td>\n",
       "    </tr>\n",
       "    <tr>\n",
       "      <th>2</th>\n",
       "      <td>300</td>\n",
       "      <td>10</td>\n",
       "      <td>55.299720</td>\n",
       "      <td>0.249500</td>\n",
       "    </tr>\n",
       "    <tr>\n",
       "      <th>3</th>\n",
       "      <td>400</td>\n",
       "      <td>10</td>\n",
       "      <td>74.131368</td>\n",
       "      <td>0.254250</td>\n",
       "    </tr>\n",
       "    <tr>\n",
       "      <th>4</th>\n",
       "      <td>500</td>\n",
       "      <td>10</td>\n",
       "      <td>92.225049</td>\n",
       "      <td>0.255875</td>\n",
       "    </tr>\n",
       "    <tr>\n",
       "      <th>5</th>\n",
       "      <td>100</td>\n",
       "      <td>20</td>\n",
       "      <td>22.025398</td>\n",
       "      <td>0.241375</td>\n",
       "    </tr>\n",
       "    <tr>\n",
       "      <th>6</th>\n",
       "      <td>200</td>\n",
       "      <td>20</td>\n",
       "      <td>43.970030</td>\n",
       "      <td>0.251125</td>\n",
       "    </tr>\n",
       "    <tr>\n",
       "      <th>7</th>\n",
       "      <td>300</td>\n",
       "      <td>20</td>\n",
       "      <td>65.428067</td>\n",
       "      <td>0.253625</td>\n",
       "    </tr>\n",
       "    <tr>\n",
       "      <th>8</th>\n",
       "      <td>400</td>\n",
       "      <td>20</td>\n",
       "      <td>85.427750</td>\n",
       "      <td>0.257500</td>\n",
       "    </tr>\n",
       "    <tr>\n",
       "      <th>9</th>\n",
       "      <td>500</td>\n",
       "      <td>20</td>\n",
       "      <td>105.245837</td>\n",
       "      <td>0.251375</td>\n",
       "    </tr>\n",
       "    <tr>\n",
       "      <th>10</th>\n",
       "      <td>100</td>\n",
       "      <td>30</td>\n",
       "      <td>21.032092</td>\n",
       "      <td>0.234875</td>\n",
       "    </tr>\n",
       "    <tr>\n",
       "      <th>11</th>\n",
       "      <td>200</td>\n",
       "      <td>30</td>\n",
       "      <td>41.841078</td>\n",
       "      <td>0.253125</td>\n",
       "    </tr>\n",
       "    <tr>\n",
       "      <th>12</th>\n",
       "      <td>300</td>\n",
       "      <td>30</td>\n",
       "      <td>62.927866</td>\n",
       "      <td>0.249750</td>\n",
       "    </tr>\n",
       "    <tr>\n",
       "      <th>13</th>\n",
       "      <td>400</td>\n",
       "      <td>30</td>\n",
       "      <td>83.362478</td>\n",
       "      <td>0.253000</td>\n",
       "    </tr>\n",
       "    <tr>\n",
       "      <th>14</th>\n",
       "      <td>500</td>\n",
       "      <td>30</td>\n",
       "      <td>104.369421</td>\n",
       "      <td>0.260875</td>\n",
       "    </tr>\n",
       "    <tr>\n",
       "      <th>15</th>\n",
       "      <td>100</td>\n",
       "      <td>40</td>\n",
       "      <td>20.890494</td>\n",
       "      <td>0.240375</td>\n",
       "    </tr>\n",
       "    <tr>\n",
       "      <th>16</th>\n",
       "      <td>200</td>\n",
       "      <td>40</td>\n",
       "      <td>41.990372</td>\n",
       "      <td>0.247250</td>\n",
       "    </tr>\n",
       "    <tr>\n",
       "      <th>17</th>\n",
       "      <td>300</td>\n",
       "      <td>40</td>\n",
       "      <td>62.663243</td>\n",
       "      <td>0.253750</td>\n",
       "    </tr>\n",
       "    <tr>\n",
       "      <th>18</th>\n",
       "      <td>400</td>\n",
       "      <td>40</td>\n",
       "      <td>84.575013</td>\n",
       "      <td>0.253000</td>\n",
       "    </tr>\n",
       "    <tr>\n",
       "      <th>19</th>\n",
       "      <td>500</td>\n",
       "      <td>40</td>\n",
       "      <td>110.181783</td>\n",
       "      <td>0.254500</td>\n",
       "    </tr>\n",
       "    <tr>\n",
       "      <th>20</th>\n",
       "      <td>100</td>\n",
       "      <td>50</td>\n",
       "      <td>22.086039</td>\n",
       "      <td>0.239875</td>\n",
       "    </tr>\n",
       "    <tr>\n",
       "      <th>21</th>\n",
       "      <td>200</td>\n",
       "      <td>50</td>\n",
       "      <td>44.080489</td>\n",
       "      <td>0.248250</td>\n",
       "    </tr>\n",
       "    <tr>\n",
       "      <th>22</th>\n",
       "      <td>300</td>\n",
       "      <td>50</td>\n",
       "      <td>65.680474</td>\n",
       "      <td>0.250875</td>\n",
       "    </tr>\n",
       "    <tr>\n",
       "      <th>23</th>\n",
       "      <td>400</td>\n",
       "      <td>50</td>\n",
       "      <td>87.525288</td>\n",
       "      <td>0.251875</td>\n",
       "    </tr>\n",
       "    <tr>\n",
       "      <th>24</th>\n",
       "      <td>500</td>\n",
       "      <td>50</td>\n",
       "      <td>109.523904</td>\n",
       "      <td>0.255125</td>\n",
       "    </tr>\n",
       "  </tbody>\n",
       "</table>\n",
       "</div>"
      ],
      "text/plain": [
       "    n_estimators  max_depth     runtime  mean test score\n",
       "0            100         10   18.434633         0.242125\n",
       "1            200         10   36.899385         0.249000\n",
       "2            300         10   55.299720         0.249500\n",
       "3            400         10   74.131368         0.254250\n",
       "4            500         10   92.225049         0.255875\n",
       "5            100         20   22.025398         0.241375\n",
       "6            200         20   43.970030         0.251125\n",
       "7            300         20   65.428067         0.253625\n",
       "8            400         20   85.427750         0.257500\n",
       "9            500         20  105.245837         0.251375\n",
       "10           100         30   21.032092         0.234875\n",
       "11           200         30   41.841078         0.253125\n",
       "12           300         30   62.927866         0.249750\n",
       "13           400         30   83.362478         0.253000\n",
       "14           500         30  104.369421         0.260875\n",
       "15           100         40   20.890494         0.240375\n",
       "16           200         40   41.990372         0.247250\n",
       "17           300         40   62.663243         0.253750\n",
       "18           400         40   84.575013         0.253000\n",
       "19           500         40  110.181783         0.254500\n",
       "20           100         50   22.086039         0.239875\n",
       "21           200         50   44.080489         0.248250\n",
       "22           300         50   65.680474         0.250875\n",
       "23           400         50   87.525288         0.251875\n",
       "24           500         50  109.523904         0.255125"
      ]
     },
     "execution_count": 44,
     "metadata": {},
     "output_type": "execute_result"
    }
   ],
   "source": [
    "# Output the hyperparameter tuning results\n",
    "gs_res = {\n",
    "    'n_estimators': [gs.cv_results_['params'][i]['n_estimators'] for i in range(len(gs.cv_results_['params']))],\n",
    "    'max_depth': [gs.cv_results_['params'][i]['max_depth'] for i in range(len(gs.cv_results_['params']))],\n",
    "    'runtime': gs.cv_results_['mean_fit_time'] + gs.cv_results_['mean_score_time'],\n",
    "    'mean test score': gs.cv_results_['mean_test_score']\n",
    "}\n",
    "\n",
    "rf3_df = pd.DataFrame(gs_res)\n",
    "rf3_df"
   ]
  },
  {
   "cell_type": "code",
   "execution_count": 45,
   "metadata": {
    "ExecuteTime": {
     "end_time": "2023-05-10T23:39:31.013385Z",
     "start_time": "2023-05-10T23:37:09.597855Z"
    }
   },
   "outputs": [
    {
     "name": "stdout",
     "output_type": "stream",
     "text": [
      "Accuracy for Validation Set: 0.257\n"
     ]
    }
   ],
   "source": [
    "clf = RandomForestClassifier(criterion='entropy', max_depth=30, n_estimators=500)\n",
    "clf.fit(X_train_combined_label, Y_train_salary_bin)\n",
    "print(\"Accuracy for Validation Set: {}\".format(round(clf.score(X_valid_combined, Y_valid_salary_bin), 3)))"
   ]
  },
  {
   "cell_type": "markdown",
   "metadata": {},
   "source": [
    "#### Combined Scaled"
   ]
  },
  {
   "cell_type": "code",
   "execution_count": 46,
   "metadata": {
    "ExecuteTime": {
     "end_time": "2023-05-11T01:56:48.657348Z",
     "start_time": "2023-05-10T23:39:31.015346Z"
    }
   },
   "outputs": [
    {
     "data": {
      "text/plain": [
       "{'max_depth': 40, 'n_estimators': 400}"
      ]
     },
     "execution_count": 46,
     "metadata": {},
     "output_type": "execute_result"
    }
   ],
   "source": [
    "parameters = [\n",
    "    {'n_estimators': [100, 200, 300, 400, 500],\n",
    "     'max_depth': [10, 20, 30, 40, 50],\n",
    "    }\n",
    "]\n",
    "\n",
    "# Search for the best parameters\n",
    "model = RandomForestClassifier(criterion='entropy')\n",
    "gs = GridSearchCV(model, parameters, scoring='accuracy')\n",
    "gs.fit(X_train_combined_label_scaled, Y_train_salary_bin)\n",
    "\n",
    "# Best parameters\n",
    "gs.best_params_"
   ]
  },
  {
   "cell_type": "code",
   "execution_count": 47,
   "metadata": {
    "ExecuteTime": {
     "end_time": "2023-05-11T01:56:48.673266Z",
     "start_time": "2023-05-11T01:56:48.659314Z"
    }
   },
   "outputs": [
    {
     "data": {
      "text/html": [
       "<div>\n",
       "<style scoped>\n",
       "    .dataframe tbody tr th:only-of-type {\n",
       "        vertical-align: middle;\n",
       "    }\n",
       "\n",
       "    .dataframe tbody tr th {\n",
       "        vertical-align: top;\n",
       "    }\n",
       "\n",
       "    .dataframe thead th {\n",
       "        text-align: right;\n",
       "    }\n",
       "</style>\n",
       "<table border=\"1\" class=\"dataframe\">\n",
       "  <thead>\n",
       "    <tr style=\"text-align: right;\">\n",
       "      <th></th>\n",
       "      <th>n_estimators</th>\n",
       "      <th>max_depth</th>\n",
       "      <th>runtime</th>\n",
       "      <th>mean test score</th>\n",
       "    </tr>\n",
       "  </thead>\n",
       "  <tbody>\n",
       "    <tr>\n",
       "      <th>0</th>\n",
       "      <td>100</td>\n",
       "      <td>10</td>\n",
       "      <td>18.498914</td>\n",
       "      <td>0.241125</td>\n",
       "    </tr>\n",
       "    <tr>\n",
       "      <th>1</th>\n",
       "      <td>200</td>\n",
       "      <td>10</td>\n",
       "      <td>36.855275</td>\n",
       "      <td>0.253000</td>\n",
       "    </tr>\n",
       "    <tr>\n",
       "      <th>2</th>\n",
       "      <td>300</td>\n",
       "      <td>10</td>\n",
       "      <td>55.612798</td>\n",
       "      <td>0.251750</td>\n",
       "    </tr>\n",
       "    <tr>\n",
       "      <th>3</th>\n",
       "      <td>400</td>\n",
       "      <td>10</td>\n",
       "      <td>74.807170</td>\n",
       "      <td>0.255750</td>\n",
       "    </tr>\n",
       "    <tr>\n",
       "      <th>4</th>\n",
       "      <td>500</td>\n",
       "      <td>10</td>\n",
       "      <td>93.146283</td>\n",
       "      <td>0.253375</td>\n",
       "    </tr>\n",
       "    <tr>\n",
       "      <th>5</th>\n",
       "      <td>100</td>\n",
       "      <td>20</td>\n",
       "      <td>21.910752</td>\n",
       "      <td>0.237625</td>\n",
       "    </tr>\n",
       "    <tr>\n",
       "      <th>6</th>\n",
       "      <td>200</td>\n",
       "      <td>20</td>\n",
       "      <td>44.307864</td>\n",
       "      <td>0.247000</td>\n",
       "    </tr>\n",
       "    <tr>\n",
       "      <th>7</th>\n",
       "      <td>300</td>\n",
       "      <td>20</td>\n",
       "      <td>68.936609</td>\n",
       "      <td>0.249375</td>\n",
       "    </tr>\n",
       "    <tr>\n",
       "      <th>8</th>\n",
       "      <td>400</td>\n",
       "      <td>20</td>\n",
       "      <td>88.294278</td>\n",
       "      <td>0.255125</td>\n",
       "    </tr>\n",
       "    <tr>\n",
       "      <th>9</th>\n",
       "      <td>500</td>\n",
       "      <td>20</td>\n",
       "      <td>110.615424</td>\n",
       "      <td>0.254750</td>\n",
       "    </tr>\n",
       "    <tr>\n",
       "      <th>10</th>\n",
       "      <td>100</td>\n",
       "      <td>30</td>\n",
       "      <td>24.173156</td>\n",
       "      <td>0.245750</td>\n",
       "    </tr>\n",
       "    <tr>\n",
       "      <th>11</th>\n",
       "      <td>200</td>\n",
       "      <td>30</td>\n",
       "      <td>46.434720</td>\n",
       "      <td>0.248625</td>\n",
       "    </tr>\n",
       "    <tr>\n",
       "      <th>12</th>\n",
       "      <td>300</td>\n",
       "      <td>30</td>\n",
       "      <td>67.915768</td>\n",
       "      <td>0.256375</td>\n",
       "    </tr>\n",
       "    <tr>\n",
       "      <th>13</th>\n",
       "      <td>400</td>\n",
       "      <td>30</td>\n",
       "      <td>87.054435</td>\n",
       "      <td>0.260250</td>\n",
       "    </tr>\n",
       "    <tr>\n",
       "      <th>14</th>\n",
       "      <td>500</td>\n",
       "      <td>30</td>\n",
       "      <td>109.074236</td>\n",
       "      <td>0.256250</td>\n",
       "    </tr>\n",
       "    <tr>\n",
       "      <th>15</th>\n",
       "      <td>100</td>\n",
       "      <td>40</td>\n",
       "      <td>23.627203</td>\n",
       "      <td>0.239250</td>\n",
       "    </tr>\n",
       "    <tr>\n",
       "      <th>16</th>\n",
       "      <td>200</td>\n",
       "      <td>40</td>\n",
       "      <td>45.948745</td>\n",
       "      <td>0.248000</td>\n",
       "    </tr>\n",
       "    <tr>\n",
       "      <th>17</th>\n",
       "      <td>300</td>\n",
       "      <td>40</td>\n",
       "      <td>68.821776</td>\n",
       "      <td>0.253125</td>\n",
       "    </tr>\n",
       "    <tr>\n",
       "      <th>18</th>\n",
       "      <td>400</td>\n",
       "      <td>40</td>\n",
       "      <td>88.634104</td>\n",
       "      <td>0.260500</td>\n",
       "    </tr>\n",
       "    <tr>\n",
       "      <th>19</th>\n",
       "      <td>500</td>\n",
       "      <td>40</td>\n",
       "      <td>109.523494</td>\n",
       "      <td>0.260125</td>\n",
       "    </tr>\n",
       "    <tr>\n",
       "      <th>20</th>\n",
       "      <td>100</td>\n",
       "      <td>50</td>\n",
       "      <td>21.931523</td>\n",
       "      <td>0.241000</td>\n",
       "    </tr>\n",
       "    <tr>\n",
       "      <th>21</th>\n",
       "      <td>200</td>\n",
       "      <td>50</td>\n",
       "      <td>44.832352</td>\n",
       "      <td>0.254750</td>\n",
       "    </tr>\n",
       "    <tr>\n",
       "      <th>22</th>\n",
       "      <td>300</td>\n",
       "      <td>50</td>\n",
       "      <td>65.874214</td>\n",
       "      <td>0.254000</td>\n",
       "    </tr>\n",
       "    <tr>\n",
       "      <th>23</th>\n",
       "      <td>400</td>\n",
       "      <td>50</td>\n",
       "      <td>87.293632</td>\n",
       "      <td>0.253750</td>\n",
       "    </tr>\n",
       "    <tr>\n",
       "      <th>24</th>\n",
       "      <td>500</td>\n",
       "      <td>50</td>\n",
       "      <td>119.827389</td>\n",
       "      <td>0.258500</td>\n",
       "    </tr>\n",
       "  </tbody>\n",
       "</table>\n",
       "</div>"
      ],
      "text/plain": [
       "    n_estimators  max_depth     runtime  mean test score\n",
       "0            100         10   18.498914         0.241125\n",
       "1            200         10   36.855275         0.253000\n",
       "2            300         10   55.612798         0.251750\n",
       "3            400         10   74.807170         0.255750\n",
       "4            500         10   93.146283         0.253375\n",
       "5            100         20   21.910752         0.237625\n",
       "6            200         20   44.307864         0.247000\n",
       "7            300         20   68.936609         0.249375\n",
       "8            400         20   88.294278         0.255125\n",
       "9            500         20  110.615424         0.254750\n",
       "10           100         30   24.173156         0.245750\n",
       "11           200         30   46.434720         0.248625\n",
       "12           300         30   67.915768         0.256375\n",
       "13           400         30   87.054435         0.260250\n",
       "14           500         30  109.074236         0.256250\n",
       "15           100         40   23.627203         0.239250\n",
       "16           200         40   45.948745         0.248000\n",
       "17           300         40   68.821776         0.253125\n",
       "18           400         40   88.634104         0.260500\n",
       "19           500         40  109.523494         0.260125\n",
       "20           100         50   21.931523         0.241000\n",
       "21           200         50   44.832352         0.254750\n",
       "22           300         50   65.874214         0.254000\n",
       "23           400         50   87.293632         0.253750\n",
       "24           500         50  119.827389         0.258500"
      ]
     },
     "execution_count": 47,
     "metadata": {},
     "output_type": "execute_result"
    }
   ],
   "source": [
    "# Output the hyperparameter tuning results\n",
    "gs_res = {\n",
    "    'n_estimators': [gs.cv_results_['params'][i]['n_estimators'] for i in range(len(gs.cv_results_['params']))],\n",
    "    'max_depth': [gs.cv_results_['params'][i]['max_depth'] for i in range(len(gs.cv_results_['params']))],\n",
    "    'runtime': gs.cv_results_['mean_fit_time'] + gs.cv_results_['mean_score_time'],\n",
    "    'mean test score': gs.cv_results_['mean_test_score']\n",
    "}\n",
    "\n",
    "rf4_df = pd.DataFrame(gs_res)\n",
    "rf4_df"
   ]
  },
  {
   "cell_type": "code",
   "execution_count": 62,
   "metadata": {
    "ExecuteTime": {
     "end_time": "2023-05-11T02:49:45.479570Z",
     "start_time": "2023-05-11T02:47:45.800205Z"
    }
   },
   "outputs": [
    {
     "name": "stdout",
     "output_type": "stream",
     "text": [
      "Accuracy for Validation Set: 0.263\n"
     ]
    }
   ],
   "source": [
    "clf = RandomForestClassifier(criterion='entropy', max_depth=40, n_estimators=400)\n",
    "clf.fit(X_train_combined_label_scaled, Y_train_salary_bin)\n",
    "print(\"Accuracy for Validation Set: {}\".format(round(clf.score(X_valid_combined_scaled, Y_valid_salary_bin), 3)))"
   ]
  },
  {
   "cell_type": "code",
   "execution_count": 63,
   "metadata": {
    "ExecuteTime": {
     "end_time": "2023-05-11T04:14:34.249633Z",
     "start_time": "2023-05-11T04:14:34.000303Z"
    }
   },
   "outputs": [
    {
     "name": "stdout",
     "output_type": "stream",
     "text": [
      "RandomForestClassifier (Combined Scaled)\n",
      "              precision    recall  f1-score   support\n",
      "\n",
      "           0       0.38      0.67      0.48       180\n",
      "           1       0.23      0.23      0.23       142\n",
      "           2       0.20      0.15      0.17       181\n",
      "           3       0.18      0.18      0.18       190\n",
      "           4       0.21      0.16      0.18       201\n",
      "           5       0.24      0.04      0.07       150\n",
      "           6       0.21      0.26      0.23       178\n",
      "           7       0.27      0.13      0.18       171\n",
      "           8       0.32      0.18      0.23       171\n",
      "           9       0.28      0.60      0.39       173\n",
      "\n",
      "    accuracy                           0.26      1737\n",
      "   macro avg       0.25      0.26      0.23      1737\n",
      "weighted avg       0.25      0.26      0.24      1737\n",
      "\n"
     ]
    }
   ],
   "source": [
    "Y_pred = clf.predict(X_valid_combined_scaled)\n",
    "\n",
    "print(\"RandomForestClassifier (Combined Scaled)\")\n",
    "print(classification_report(Y_valid_salary_bin, Y_pred))"
   ]
  },
  {
   "cell_type": "markdown",
   "metadata": {
    "tags": []
   },
   "source": [
    "## Research Question 1: Semi-supervised Learning"
   ]
  },
  {
   "cell_type": "markdown",
   "metadata": {},
   "source": [
    "### threshold"
   ]
  },
  {
   "cell_type": "markdown",
   "metadata": {},
   "source": [
    "#### Multinomial Naïve Bayes"
   ]
  },
  {
   "cell_type": "code",
   "execution_count": 73,
   "metadata": {
    "ExecuteTime": {
     "end_time": "2023-05-11T05:02:34.448544Z",
     "start_time": "2023-05-11T05:02:25.724160Z"
    },
    "scrolled": false
   },
   "outputs": [
    {
     "data": {
      "image/png": "[encoded data removed]",
      "text/plain": [
       "<Figure size 504x360 with 1 Axes>"
      ]
     },
     "metadata": {
      "needs_background": "light"
     },
     "output_type": "display_data"
    }
   ],
   "source": [
    "from sklearn.semi_supervised import SelfTrainingClassifier\n",
    "\n",
    "Valid_Acc = []\n",
    "\n",
    "for threshold in [0.5, 0.6, 0.7, 0.8, 0.9]:\n",
    "    clf = MultinomialNB(alpha=0.5)\n",
    "    self_training_clf = SelfTrainingClassifier(clf, criterion='threshold', threshold=threshold)\n",
    "\n",
    "    Y_train_salary_bin = train_df[\"salary_bin\"].values.astype(int)\n",
    "    # Unlabeled samples should have the label -1\n",
    "    Y_train_salary_bin[8000:] = -1\n",
    "\n",
    "    train_acc = []\n",
    "    valid_acc = []\n",
    "\n",
    "    for i in [9000, 9500, 10000, 10500, 11000, 11500, 12000, 12500, 13000, 13500, 13902]:\n",
    "        self_training_clf.fit(X_train_tfidf_all[:i], Y_train_salary_bin[:i])\n",
    "        train_acc.append(self_training_clf.score(X_train_tfidf_all[:i], Y_train_salary_bin[:i]))\n",
    "        valid_acc.append(self_training_clf.score(X_valid_tfidf, Y_valid_salary_bin))\n",
    "        \n",
    "    Valid_Acc.append(valid_acc)\n",
    "\n",
    "figure(figsize=(7, 5))\n",
    "x = [9000, 9500, 10000, 10500, 11000, 11500, 12000, 12500, 13000, 13500, 13902]\n",
    "x = [i - 8000 for i in x]\n",
    "\n",
    "# Plot Validation accuracy\n",
    "plt.plot(x, Valid_Acc[0], label = \"threshold = 0.5\")\n",
    "plt.plot(x, Valid_Acc[1], label = \"threshold = 0.6\")\n",
    "plt.plot(x, Valid_Acc[2], label = \"threshold = 0.7\")\n",
    "plt.plot(x, Valid_Acc[3], label = \"threshold = 0.8\")\n",
    "plt.plot(x, Valid_Acc[4], label = \"threshold = 0.9\")\n",
    "\n",
    "plt.title('Multinomial Naïve Bayes\\n Accuracy vs Amount of unlabeled data', fontsize=14)\n",
    "plt.ylabel('Validation Accuracy', fontsize=12)\n",
    "plt.xlabel('Amount of unlabeled data in the pool', fontsize=12)\n",
    "plt.legend(loc='upper right')\n",
    "plt.show()\n",
    "\n",
    "df = pd.DataFrame(columns = ['Amount of unlabeled data', 'threshold=0.5', 'threshold=0.6', 'threshold=0.7', 'threshold=0.8', 'threshold=0.9'])\n",
    "df['Amount of unlabeled data'] = x\n",
    "df['threshold=0.5'] = Valid_Acc[0]\n",
    "df['threshold=0.6'] = Valid_Acc[1]\n",
    "df['threshold=0.7'] = Valid_Acc[2]\n",
    "df['threshold=0.8'] = Valid_Acc[3]\n",
    "df['threshold=0.9'] = Valid_Acc[4]\n",
    "df.to_excel('mnb_th.xlsx')"
   ]
  },
  {
   "cell_type": "code",
   "execution_count": 74,
   "metadata": {
    "ExecuteTime": {
     "end_time": "2023-05-11T05:02:34.463507Z",
     "start_time": "2023-05-11T05:02:34.450506Z"
    },
    "scrolled": true
   },
   "outputs": [
    {
     "data": {
      "text/html": [
       "<div>\n",
       "<style scoped>\n",
       "    .dataframe tbody tr th:only-of-type {\n",
       "        vertical-align: middle;\n",
       "    }\n",
       "\n",
       "    .dataframe tbody tr th {\n",
       "        vertical-align: top;\n",
       "    }\n",
       "\n",
       "    .dataframe thead th {\n",
       "        text-align: right;\n",
       "    }\n",
       "</style>\n",
       "<table border=\"1\" class=\"dataframe\">\n",
       "  <thead>\n",
       "    <tr style=\"text-align: right;\">\n",
       "      <th></th>\n",
       "      <th>Amount of unlabeled data</th>\n",
       "      <th>threshold=0.5</th>\n",
       "      <th>threshold=0.6</th>\n",
       "      <th>threshold=0.7</th>\n",
       "      <th>threshold=0.8</th>\n",
       "      <th>threshold=0.9</th>\n",
       "    </tr>\n",
       "  </thead>\n",
       "  <tbody>\n",
       "    <tr>\n",
       "      <th>0</th>\n",
       "      <td>1000</td>\n",
       "      <td>0.231434</td>\n",
       "      <td>0.232009</td>\n",
       "      <td>0.231434</td>\n",
       "      <td>0.231434</td>\n",
       "      <td>0.231434</td>\n",
       "    </tr>\n",
       "    <tr>\n",
       "      <th>1</th>\n",
       "      <td>1500</td>\n",
       "      <td>0.231434</td>\n",
       "      <td>0.232009</td>\n",
       "      <td>0.232009</td>\n",
       "      <td>0.231434</td>\n",
       "      <td>0.231434</td>\n",
       "    </tr>\n",
       "    <tr>\n",
       "      <th>2</th>\n",
       "      <td>2000</td>\n",
       "      <td>0.233161</td>\n",
       "      <td>0.232009</td>\n",
       "      <td>0.231434</td>\n",
       "      <td>0.231434</td>\n",
       "      <td>0.231434</td>\n",
       "    </tr>\n",
       "    <tr>\n",
       "      <th>3</th>\n",
       "      <td>2500</td>\n",
       "      <td>0.234312</td>\n",
       "      <td>0.230858</td>\n",
       "      <td>0.231434</td>\n",
       "      <td>0.231434</td>\n",
       "      <td>0.231434</td>\n",
       "    </tr>\n",
       "    <tr>\n",
       "      <th>4</th>\n",
       "      <td>3000</td>\n",
       "      <td>0.234888</td>\n",
       "      <td>0.229706</td>\n",
       "      <td>0.231434</td>\n",
       "      <td>0.231434</td>\n",
       "      <td>0.231434</td>\n",
       "    </tr>\n",
       "    <tr>\n",
       "      <th>5</th>\n",
       "      <td>3500</td>\n",
       "      <td>0.232009</td>\n",
       "      <td>0.230282</td>\n",
       "      <td>0.231434</td>\n",
       "      <td>0.231434</td>\n",
       "      <td>0.231434</td>\n",
       "    </tr>\n",
       "    <tr>\n",
       "      <th>6</th>\n",
       "      <td>4000</td>\n",
       "      <td>0.233736</td>\n",
       "      <td>0.230282</td>\n",
       "      <td>0.232009</td>\n",
       "      <td>0.231434</td>\n",
       "      <td>0.231434</td>\n",
       "    </tr>\n",
       "    <tr>\n",
       "      <th>7</th>\n",
       "      <td>4500</td>\n",
       "      <td>0.233161</td>\n",
       "      <td>0.230282</td>\n",
       "      <td>0.232009</td>\n",
       "      <td>0.231434</td>\n",
       "      <td>0.231434</td>\n",
       "    </tr>\n",
       "    <tr>\n",
       "      <th>8</th>\n",
       "      <td>5000</td>\n",
       "      <td>0.232009</td>\n",
       "      <td>0.230858</td>\n",
       "      <td>0.232009</td>\n",
       "      <td>0.231434</td>\n",
       "      <td>0.231434</td>\n",
       "    </tr>\n",
       "    <tr>\n",
       "      <th>9</th>\n",
       "      <td>5500</td>\n",
       "      <td>0.230858</td>\n",
       "      <td>0.232009</td>\n",
       "      <td>0.232009</td>\n",
       "      <td>0.231434</td>\n",
       "      <td>0.231434</td>\n",
       "    </tr>\n",
       "    <tr>\n",
       "      <th>10</th>\n",
       "      <td>5902</td>\n",
       "      <td>0.229131</td>\n",
       "      <td>0.232585</td>\n",
       "      <td>0.232009</td>\n",
       "      <td>0.231434</td>\n",
       "      <td>0.231434</td>\n",
       "    </tr>\n",
       "  </tbody>\n",
       "</table>\n",
       "</div>"
      ],
      "text/plain": [
       "    Amount of unlabeled data  threshold=0.5  threshold=0.6  threshold=0.7  \\\n",
       "0                       1000       0.231434       0.232009       0.231434   \n",
       "1                       1500       0.231434       0.232009       0.232009   \n",
       "2                       2000       0.233161       0.232009       0.231434   \n",
       "3                       2500       0.234312       0.230858       0.231434   \n",
       "4                       3000       0.234888       0.229706       0.231434   \n",
       "5                       3500       0.232009       0.230282       0.231434   \n",
       "6                       4000       0.233736       0.230282       0.232009   \n",
       "7                       4500       0.233161       0.230282       0.232009   \n",
       "8                       5000       0.232009       0.230858       0.232009   \n",
       "9                       5500       0.230858       0.232009       0.232009   \n",
       "10                      5902       0.229131       0.232585       0.232009   \n",
       "\n",
       "    threshold=0.8  threshold=0.9  \n",
       "0        0.231434       0.231434  \n",
       "1        0.231434       0.231434  \n",
       "2        0.231434       0.231434  \n",
       "3        0.231434       0.231434  \n",
       "4        0.231434       0.231434  \n",
       "5        0.231434       0.231434  \n",
       "6        0.231434       0.231434  \n",
       "7        0.231434       0.231434  \n",
       "8        0.231434       0.231434  \n",
       "9        0.231434       0.231434  \n",
       "10       0.231434       0.231434  "
      ]
     },
     "execution_count": 74,
     "metadata": {},
     "output_type": "execute_result"
    }
   ],
   "source": [
    "df"
   ]
  },
  {
   "cell_type": "markdown",
   "metadata": {},
   "source": [
    "#### K-Nearest Neighbors"
   ]
  },
  {
   "cell_type": "code",
   "execution_count": 75,
   "metadata": {
    "ExecuteTime": {
     "end_time": "2023-05-11T05:08:58.833999Z",
     "start_time": "2023-05-11T05:02:34.465467Z"
    }
   },
   "outputs": [
    {
     "data": {
      "image/png": "[encoded data removed]",
      "text/plain": [
       "<Figure size 504x360 with 1 Axes>"
      ]
     },
     "metadata": {
      "needs_background": "light"
     },
     "output_type": "display_data"
    }
   ],
   "source": [
    "from sklearn.semi_supervised import SelfTrainingClassifier\n",
    "\n",
    "Valid_Acc = []\n",
    "\n",
    "for threshold in [0.5, 0.6, 0.7, 0.8, 0.9]:\n",
    "    clf = KNeighborsClassifier(metric='cosine', n_neighbors=45)\n",
    "    self_training_clf = SelfTrainingClassifier(clf, criterion='threshold', threshold=threshold)\n",
    "\n",
    "    Y_train_salary_bin = train_df[\"salary_bin\"].values.astype(int)\n",
    "    # Unlabeled samples should have the label -1\n",
    "    Y_train_salary_bin[8000:] = -1\n",
    "\n",
    "    train_acc = []\n",
    "    valid_acc = []\n",
    "\n",
    "    for i in [9000, 9500, 10000, 10500, 11000, 11500, 12000, 12500, 13000, 13500, 13902]:\n",
    "        self_training_clf.fit(X_train_combined_all_scaled[:i], Y_train_salary_bin[:i])\n",
    "        train_acc.append(self_training_clf.score(X_train_combined_all_scaled[:i], Y_train_salary_bin[:i]))\n",
    "        valid_acc.append(self_training_clf.score(X_valid_combined_scaled, Y_valid_salary_bin))\n",
    "        \n",
    "    Valid_Acc.append(valid_acc)\n",
    "\n",
    "figure(figsize=(7, 5))\n",
    "x = [9000, 9500, 10000, 10500, 11000, 11500, 12000, 12500, 13000, 13500, 13902]\n",
    "x = [i - 8000 for i in x]\n",
    "\n",
    "# Plot Validation accuracy\n",
    "plt.plot(x, Valid_Acc[0], label = \"threshold = 0.5\")\n",
    "plt.plot(x, Valid_Acc[1], label = \"threshold = 0.6\")\n",
    "plt.plot(x, Valid_Acc[2], label = \"threshold = 0.7\")\n",
    "plt.plot(x, Valid_Acc[3], label = \"threshold = 0.8\")\n",
    "plt.plot(x, Valid_Acc[4], label = \"threshold = 0.9\")\n",
    "\n",
    "plt.title('K-Nearest Neighbors\\n Accuracy vs Amount of unlabeled data', fontsize=14)\n",
    "plt.ylabel('Validation Accuracy', fontsize=12)\n",
    "plt.xlabel('Amount of unlabeled data in the pool', fontsize=12)\n",
    "plt.legend(loc='lower left')\n",
    "plt.show()\n",
    "\n",
    "df = pd.DataFrame(columns = ['Amount of unlabeled data', 'threshold=0.5', 'threshold=0.6', 'threshold=0.7', 'threshold=0.8', 'threshold=0.9'])\n",
    "df['Amount of unlabeled data'] = x\n",
    "df['threshold=0.5'] = Valid_Acc[0]\n",
    "df['threshold=0.6'] = Valid_Acc[1]\n",
    "df['threshold=0.7'] = Valid_Acc[2]\n",
    "df['threshold=0.8'] = Valid_Acc[3]\n",
    "df['threshold=0.9'] = Valid_Acc[4]\n",
    "df.to_excel('knn_th.xlsx')"
   ]
  },
  {
   "cell_type": "code",
   "execution_count": 76,
   "metadata": {
    "ExecuteTime": {
     "end_time": "2023-05-11T05:08:58.865914Z",
     "start_time": "2023-05-11T05:08:58.836992Z"
    },
    "scrolled": false
   },
   "outputs": [
    {
     "data": {
      "text/html": [
       "<div>\n",
       "<style scoped>\n",
       "    .dataframe tbody tr th:only-of-type {\n",
       "        vertical-align: middle;\n",
       "    }\n",
       "\n",
       "    .dataframe tbody tr th {\n",
       "        vertical-align: top;\n",
       "    }\n",
       "\n",
       "    .dataframe thead th {\n",
       "        text-align: right;\n",
       "    }\n",
       "</style>\n",
       "<table border=\"1\" class=\"dataframe\">\n",
       "  <thead>\n",
       "    <tr style=\"text-align: right;\">\n",
       "      <th></th>\n",
       "      <th>Amount of unlabeled data</th>\n",
       "      <th>threshold=0.5</th>\n",
       "      <th>threshold=0.6</th>\n",
       "      <th>threshold=0.7</th>\n",
       "      <th>threshold=0.8</th>\n",
       "      <th>threshold=0.9</th>\n",
       "    </tr>\n",
       "  </thead>\n",
       "  <tbody>\n",
       "    <tr>\n",
       "      <th>0</th>\n",
       "      <td>1000</td>\n",
       "      <td>0.251583</td>\n",
       "      <td>0.251583</td>\n",
       "      <td>0.251583</td>\n",
       "      <td>0.251583</td>\n",
       "      <td>0.251583</td>\n",
       "    </tr>\n",
       "    <tr>\n",
       "      <th>1</th>\n",
       "      <td>1500</td>\n",
       "      <td>0.252735</td>\n",
       "      <td>0.251583</td>\n",
       "      <td>0.251583</td>\n",
       "      <td>0.251583</td>\n",
       "      <td>0.251583</td>\n",
       "    </tr>\n",
       "    <tr>\n",
       "      <th>2</th>\n",
       "      <td>2000</td>\n",
       "      <td>0.251007</td>\n",
       "      <td>0.250432</td>\n",
       "      <td>0.251583</td>\n",
       "      <td>0.251583</td>\n",
       "      <td>0.251583</td>\n",
       "    </tr>\n",
       "    <tr>\n",
       "      <th>3</th>\n",
       "      <td>2500</td>\n",
       "      <td>0.249280</td>\n",
       "      <td>0.250432</td>\n",
       "      <td>0.251583</td>\n",
       "      <td>0.251583</td>\n",
       "      <td>0.251583</td>\n",
       "    </tr>\n",
       "    <tr>\n",
       "      <th>4</th>\n",
       "      <td>3000</td>\n",
       "      <td>0.246978</td>\n",
       "      <td>0.250432</td>\n",
       "      <td>0.251583</td>\n",
       "      <td>0.251583</td>\n",
       "      <td>0.251583</td>\n",
       "    </tr>\n",
       "    <tr>\n",
       "      <th>5</th>\n",
       "      <td>3500</td>\n",
       "      <td>0.245826</td>\n",
       "      <td>0.250432</td>\n",
       "      <td>0.251583</td>\n",
       "      <td>0.251583</td>\n",
       "      <td>0.251583</td>\n",
       "    </tr>\n",
       "    <tr>\n",
       "      <th>6</th>\n",
       "      <td>4000</td>\n",
       "      <td>0.246402</td>\n",
       "      <td>0.251007</td>\n",
       "      <td>0.251583</td>\n",
       "      <td>0.251583</td>\n",
       "      <td>0.251583</td>\n",
       "    </tr>\n",
       "    <tr>\n",
       "      <th>7</th>\n",
       "      <td>4500</td>\n",
       "      <td>0.244675</td>\n",
       "      <td>0.251007</td>\n",
       "      <td>0.251583</td>\n",
       "      <td>0.251583</td>\n",
       "      <td>0.251583</td>\n",
       "    </tr>\n",
       "    <tr>\n",
       "      <th>8</th>\n",
       "      <td>5000</td>\n",
       "      <td>0.245250</td>\n",
       "      <td>0.251007</td>\n",
       "      <td>0.251583</td>\n",
       "      <td>0.251583</td>\n",
       "      <td>0.251583</td>\n",
       "    </tr>\n",
       "    <tr>\n",
       "      <th>9</th>\n",
       "      <td>5500</td>\n",
       "      <td>0.246402</td>\n",
       "      <td>0.249856</td>\n",
       "      <td>0.251583</td>\n",
       "      <td>0.251583</td>\n",
       "      <td>0.251583</td>\n",
       "    </tr>\n",
       "    <tr>\n",
       "      <th>10</th>\n",
       "      <td>5902</td>\n",
       "      <td>0.245250</td>\n",
       "      <td>0.249856</td>\n",
       "      <td>0.251583</td>\n",
       "      <td>0.251583</td>\n",
       "      <td>0.251583</td>\n",
       "    </tr>\n",
       "  </tbody>\n",
       "</table>\n",
       "</div>"
      ],
      "text/plain": [
       "    Amount of unlabeled data  threshold=0.5  threshold=0.6  threshold=0.7  \\\n",
       "0                       1000       0.251583       0.251583       0.251583   \n",
       "1                       1500       0.252735       0.251583       0.251583   \n",
       "2                       2000       0.251007       0.250432       0.251583   \n",
       "3                       2500       0.249280       0.250432       0.251583   \n",
       "4                       3000       0.246978       0.250432       0.251583   \n",
       "5                       3500       0.245826       0.250432       0.251583   \n",
       "6                       4000       0.246402       0.251007       0.251583   \n",
       "7                       4500       0.244675       0.251007       0.251583   \n",
       "8                       5000       0.245250       0.251007       0.251583   \n",
       "9                       5500       0.246402       0.249856       0.251583   \n",
       "10                      5902       0.245250       0.249856       0.251583   \n",
       "\n",
       "    threshold=0.8  threshold=0.9  \n",
       "0        0.251583       0.251583  \n",
       "1        0.251583       0.251583  \n",
       "2        0.251583       0.251583  \n",
       "3        0.251583       0.251583  \n",
       "4        0.251583       0.251583  \n",
       "5        0.251583       0.251583  \n",
       "6        0.251583       0.251583  \n",
       "7        0.251583       0.251583  \n",
       "8        0.251583       0.251583  \n",
       "9        0.251583       0.251583  \n",
       "10       0.251583       0.251583  "
      ]
     },
     "execution_count": 76,
     "metadata": {},
     "output_type": "execute_result"
    }
   ],
   "source": [
    "df"
   ]
  },
  {
   "cell_type": "markdown",
   "metadata": {},
   "source": [
    "#### Random Forest"
   ]
  },
  {
   "cell_type": "code",
   "execution_count": 77,
   "metadata": {
    "ExecuteTime": {
     "end_time": "2023-05-11T14:02:51.775259Z",
     "start_time": "2023-05-11T05:08:58.868905Z"
    }
   },
   "outputs": [
    {
     "data": {
      "image/png": "[encoded data removed]",
      "text/plain": [
       "<Figure size 504x360 with 1 Axes>"
      ]
     },
     "metadata": {
      "needs_background": "light"
     },
     "output_type": "display_data"
    }
   ],
   "source": [
    "from sklearn.semi_supervised import SelfTrainingClassifier\n",
    "\n",
    "Valid_Acc = []\n",
    "\n",
    "for threshold in [0.5, 0.6, 0.7, 0.8, 0.9]:\n",
    "    clf = RandomForestClassifier(criterion='entropy', max_depth=40, n_estimators=400)\n",
    "    self_training_clf = SelfTrainingClassifier(clf, criterion='threshold', threshold=threshold)\n",
    "\n",
    "    Y_train_salary_bin = train_df[\"salary_bin\"].values.astype(int)\n",
    "    # Unlabeled samples should have the label -1\n",
    "    Y_train_salary_bin[8000:] = -1\n",
    "\n",
    "    train_acc = []\n",
    "    valid_acc = []\n",
    "\n",
    "    for i in [9000, 9500, 10000, 10500, 11000, 11500, 12000, 12500, 13000, 13500, 13902]:\n",
    "        self_training_clf.fit(X_train_combined_all_scaled[:i], Y_train_salary_bin[:i])\n",
    "        train_acc.append(self_training_clf.score(X_train_combined_all_scaled[:i], Y_train_salary_bin[:i]))\n",
    "        valid_acc.append(self_training_clf.score(X_valid_combined_scaled, Y_valid_salary_bin))\n",
    "\n",
    "    Valid_Acc.append(valid_acc)\n",
    "\n",
    "figure(figsize=(7, 5))\n",
    "x = [9000, 9500, 10000, 10500, 11000, 11500, 12000, 12500, 13000, 13500, 13902]\n",
    "x = [i - 8000 for i in x]\n",
    "\n",
    "# Plot Validation accuracy\n",
    "plt.plot(x, Valid_Acc[0], label = \"threshold = 0.5\")\n",
    "plt.plot(x, Valid_Acc[1], label = \"threshold = 0.6\")\n",
    "plt.plot(x, Valid_Acc[2], label = \"threshold = 0.7\")\n",
    "plt.plot(x, Valid_Acc[3], label = \"threshold = 0.8\")\n",
    "plt.plot(x, Valid_Acc[4], label = \"threshold = 0.9\")\n",
    "\n",
    "plt.title('Random Forest\\n Accuracy vs Amount of unlabeled data', fontsize=14)\n",
    "plt.ylabel('Validation Accuracy', fontsize=12)\n",
    "plt.xlabel('Amount of unlabeled data in the pool', fontsize=12)\n",
    "plt.legend()\n",
    "plt.show()\n",
    "\n",
    "df = pd.DataFrame(columns = ['Amount of unlabeled data', 'threshold=0.5', 'threshold=0.6', 'threshold=0.7', 'threshold=0.8', 'threshold=0.9'])\n",
    "df['Amount of unlabeled data'] = x\n",
    "df['threshold=0.5'] = Valid_Acc[0]\n",
    "df['threshold=0.6'] = Valid_Acc[1]\n",
    "df['threshold=0.7'] = Valid_Acc[2]\n",
    "df['threshold=0.8'] = Valid_Acc[3]\n",
    "df['threshold=0.9'] = Valid_Acc[4]\n",
    "df.to_excel('rf_th.xlsx')"
   ]
  },
  {
   "cell_type": "code",
   "execution_count": 78,
   "metadata": {
    "ExecuteTime": {
     "end_time": "2023-05-11T14:02:51.806144Z",
     "start_time": "2023-05-11T14:02:51.778218Z"
    },
    "scrolled": true
   },
   "outputs": [
    {
     "data": {
      "text/html": [
       "<div>\n",
       "<style scoped>\n",
       "    .dataframe tbody tr th:only-of-type {\n",
       "        vertical-align: middle;\n",
       "    }\n",
       "\n",
       "    .dataframe tbody tr th {\n",
       "        vertical-align: top;\n",
       "    }\n",
       "\n",
       "    .dataframe thead th {\n",
       "        text-align: right;\n",
       "    }\n",
       "</style>\n",
       "<table border=\"1\" class=\"dataframe\">\n",
       "  <thead>\n",
       "    <tr style=\"text-align: right;\">\n",
       "      <th></th>\n",
       "      <th>Amount of unlabeled data</th>\n",
       "      <th>threshold=0.5</th>\n",
       "      <th>threshold=0.6</th>\n",
       "      <th>threshold=0.7</th>\n",
       "      <th>threshold=0.8</th>\n",
       "      <th>threshold=0.9</th>\n",
       "    </tr>\n",
       "  </thead>\n",
       "  <tbody>\n",
       "    <tr>\n",
       "      <th>0</th>\n",
       "      <td>1000</td>\n",
       "      <td>0.263673</td>\n",
       "      <td>0.254462</td>\n",
       "      <td>0.266552</td>\n",
       "      <td>0.256189</td>\n",
       "      <td>0.255037</td>\n",
       "    </tr>\n",
       "    <tr>\n",
       "      <th>1</th>\n",
       "      <td>1500</td>\n",
       "      <td>0.264249</td>\n",
       "      <td>0.249280</td>\n",
       "      <td>0.259067</td>\n",
       "      <td>0.257340</td>\n",
       "      <td>0.257916</td>\n",
       "    </tr>\n",
       "    <tr>\n",
       "      <th>2</th>\n",
       "      <td>2000</td>\n",
       "      <td>0.251007</td>\n",
       "      <td>0.258492</td>\n",
       "      <td>0.247553</td>\n",
       "      <td>0.259643</td>\n",
       "      <td>0.253886</td>\n",
       "    </tr>\n",
       "    <tr>\n",
       "      <th>3</th>\n",
       "      <td>2500</td>\n",
       "      <td>0.252735</td>\n",
       "      <td>0.257916</td>\n",
       "      <td>0.270006</td>\n",
       "      <td>0.263673</td>\n",
       "      <td>0.265400</td>\n",
       "    </tr>\n",
       "    <tr>\n",
       "      <th>4</th>\n",
       "      <td>3000</td>\n",
       "      <td>0.262522</td>\n",
       "      <td>0.258492</td>\n",
       "      <td>0.255613</td>\n",
       "      <td>0.258492</td>\n",
       "      <td>0.257916</td>\n",
       "    </tr>\n",
       "    <tr>\n",
       "      <th>5</th>\n",
       "      <td>3500</td>\n",
       "      <td>0.255613</td>\n",
       "      <td>0.256765</td>\n",
       "      <td>0.261370</td>\n",
       "      <td>0.263673</td>\n",
       "      <td>0.265400</td>\n",
       "    </tr>\n",
       "    <tr>\n",
       "      <th>6</th>\n",
       "      <td>4000</td>\n",
       "      <td>0.259643</td>\n",
       "      <td>0.254462</td>\n",
       "      <td>0.262522</td>\n",
       "      <td>0.264249</td>\n",
       "      <td>0.259067</td>\n",
       "    </tr>\n",
       "    <tr>\n",
       "      <th>7</th>\n",
       "      <td>4500</td>\n",
       "      <td>0.261946</td>\n",
       "      <td>0.268854</td>\n",
       "      <td>0.242372</td>\n",
       "      <td>0.252159</td>\n",
       "      <td>0.248705</td>\n",
       "    </tr>\n",
       "    <tr>\n",
       "      <th>8</th>\n",
       "      <td>5000</td>\n",
       "      <td>0.261946</td>\n",
       "      <td>0.263673</td>\n",
       "      <td>0.255037</td>\n",
       "      <td>0.254462</td>\n",
       "      <td>0.258492</td>\n",
       "    </tr>\n",
       "    <tr>\n",
       "      <th>9</th>\n",
       "      <td>5500</td>\n",
       "      <td>0.257916</td>\n",
       "      <td>0.255613</td>\n",
       "      <td>0.259067</td>\n",
       "      <td>0.253310</td>\n",
       "      <td>0.261370</td>\n",
       "    </tr>\n",
       "    <tr>\n",
       "      <th>10</th>\n",
       "      <td>5902</td>\n",
       "      <td>0.263097</td>\n",
       "      <td>0.254462</td>\n",
       "      <td>0.257340</td>\n",
       "      <td>0.261370</td>\n",
       "      <td>0.252159</td>\n",
       "    </tr>\n",
       "  </tbody>\n",
       "</table>\n",
       "</div>"
      ],
      "text/plain": [
       "    Amount of unlabeled data  threshold=0.5  threshold=0.6  threshold=0.7  \\\n",
       "0                       1000       0.263673       0.254462       0.266552   \n",
       "1                       1500       0.264249       0.249280       0.259067   \n",
       "2                       2000       0.251007       0.258492       0.247553   \n",
       "3                       2500       0.252735       0.257916       0.270006   \n",
       "4                       3000       0.262522       0.258492       0.255613   \n",
       "5                       3500       0.255613       0.256765       0.261370   \n",
       "6                       4000       0.259643       0.254462       0.262522   \n",
       "7                       4500       0.261946       0.268854       0.242372   \n",
       "8                       5000       0.261946       0.263673       0.255037   \n",
       "9                       5500       0.257916       0.255613       0.259067   \n",
       "10                      5902       0.263097       0.254462       0.257340   \n",
       "\n",
       "    threshold=0.8  threshold=0.9  \n",
       "0        0.256189       0.255037  \n",
       "1        0.257340       0.257916  \n",
       "2        0.259643       0.253886  \n",
       "3        0.263673       0.265400  \n",
       "4        0.258492       0.257916  \n",
       "5        0.263673       0.265400  \n",
       "6        0.264249       0.259067  \n",
       "7        0.252159       0.248705  \n",
       "8        0.254462       0.258492  \n",
       "9        0.253310       0.261370  \n",
       "10       0.261370       0.252159  "
      ]
     },
     "execution_count": 78,
     "metadata": {},
     "output_type": "execute_result"
    }
   ],
   "source": [
    "df"
   ]
  },
  {
   "cell_type": "code",
   "execution_count": 132,
   "metadata": {
    "ExecuteTime": {
     "end_time": "2023-05-10T11:38:39.332423Z",
     "start_time": "2023-05-10T11:35:51.173837Z"
    },
    "scrolled": false
   },
   "outputs": [
    {
     "name": "stdout",
     "output_type": "stream",
     "text": [
      "Semi-supervised Learning (Random Forest)\n",
      "              precision    recall  f1-score   support\n",
      "\n",
      "           0       0.36      0.72      0.48       180\n",
      "           1       0.20      0.15      0.17       142\n",
      "           2       0.23      0.18      0.20       181\n",
      "           3       0.21      0.19      0.20       190\n",
      "           4       0.25      0.14      0.18       201\n",
      "           5       0.14      0.03      0.04       150\n",
      "           6       0.22      0.26      0.24       178\n",
      "           7       0.26      0.16      0.20       171\n",
      "           8       0.35      0.16      0.22       171\n",
      "           9       0.26      0.62      0.37       173\n",
      "\n",
      "    accuracy                           0.27      1737\n",
      "   macro avg       0.25      0.26      0.23      1737\n",
      "weighted avg       0.25      0.27      0.23      1737\n",
      "\n"
     ]
    }
   ],
   "source": [
    "from sklearn.semi_supervised import SelfTrainingClassifier\n",
    "\n",
    "clf = RandomForestClassifier(criterion='entropy', max_depth=40, n_estimators=400)\n",
    "self_training_clf = SelfTrainingClassifier(clf, criterion='threshold', threshold=0.7)\n",
    "\n",
    "Y_train_salary_bin = train_df[\"salary_bin\"].values.astype(int)\n",
    "# Unlabeled samples should have the label -1\n",
    "Y_train_salary_bin[8000:] = -1\n",
    "\n",
    "self_training_clf.fit(X_train_tfidf_all[:10500], Y_train_salary_bin[:10500])\n",
    "\n",
    "Y_pred = self_training_clf.predict(X_valid_tfidf)\n",
    "\n",
    "print(\"Semi-supervised Learning (Random Forest)\")\n",
    "print(classification_report(Y_valid_salary_bin, Y_pred))"
   ]
  },
  {
   "cell_type": "markdown",
   "metadata": {},
   "source": [
    "##### Kaggle submission"
   ]
  },
  {
   "cell_type": "code",
   "execution_count": 133,
   "metadata": {
    "ExecuteTime": {
     "end_time": "2023-05-12T00:27:00.045414Z",
     "start_time": "2023-05-12T00:26:59.814998Z"
    },
    "scrolled": true
   },
   "outputs": [
    {
     "data": {
      "text/html": [
       "<div>\n",
       "<style scoped>\n",
       "    .dataframe tbody tr th:only-of-type {\n",
       "        vertical-align: middle;\n",
       "    }\n",
       "\n",
       "    .dataframe tbody tr th {\n",
       "        vertical-align: top;\n",
       "    }\n",
       "\n",
       "    .dataframe thead th {\n",
       "        text-align: right;\n",
       "    }\n",
       "</style>\n",
       "<table border=\"1\" class=\"dataframe\">\n",
       "  <thead>\n",
       "    <tr style=\"text-align: right;\">\n",
       "      <th></th>\n",
       "      <th>job_id</th>\n",
       "      <th>salary_bin</th>\n",
       "    </tr>\n",
       "  </thead>\n",
       "  <tbody>\n",
       "    <tr>\n",
       "      <th>0</th>\n",
       "      <td>JOB-2019-0016087</td>\n",
       "      <td>0</td>\n",
       "    </tr>\n",
       "    <tr>\n",
       "      <th>1</th>\n",
       "      <td>JOB-2019-0008055</td>\n",
       "      <td>9</td>\n",
       "    </tr>\n",
       "    <tr>\n",
       "      <th>2</th>\n",
       "      <td>JOB-2019-0001658</td>\n",
       "      <td>6</td>\n",
       "    </tr>\n",
       "    <tr>\n",
       "      <th>3</th>\n",
       "      <td>JOB-2019-0016777</td>\n",
       "      <td>8</td>\n",
       "    </tr>\n",
       "    <tr>\n",
       "      <th>4</th>\n",
       "      <td>JOB-2019-0017600</td>\n",
       "      <td>7</td>\n",
       "    </tr>\n",
       "  </tbody>\n",
       "</table>\n",
       "</div>"
      ],
      "text/plain": [
       "             job_id  salary_bin\n",
       "0  JOB-2019-0016087           0\n",
       "1  JOB-2019-0008055           9\n",
       "2  JOB-2019-0001658           6\n",
       "3  JOB-2019-0016777           8\n",
       "4  JOB-2019-0017600           7"
      ]
     },
     "execution_count": 133,
     "metadata": {},
     "output_type": "execute_result"
    }
   ],
   "source": [
    "# Retrieve job_id in test_df\n",
    "test_prediction = test_df.copy()\n",
    "test_prediction.drop(columns = ['requirements_and_role', 'gender_code'], inplace=True)\n",
    "\n",
    "# Predict the test salary using Combined Scaled input features\n",
    "Y_pred = self_training_clf.predict(X_test_combined_scaled)\n",
    "test_prediction['salary_bin'] = Y_pred\n",
    "# Submit the results to participate in Kaggle in-class competition\n",
    "test_prediction.to_csv('test_prediction.csv')\n",
    "test_prediction.head()"
   ]
  },
  {
   "cell_type": "markdown",
   "metadata": {},
   "source": [
    "### k_best"
   ]
  },
  {
   "cell_type": "markdown",
   "metadata": {},
   "source": [
    "#### Multinomial Naïve Bayes"
   ]
  },
  {
   "cell_type": "code",
   "execution_count": 9,
   "metadata": {
    "ExecuteTime": {
     "end_time": "2023-05-11T04:48:22.259483Z",
     "start_time": "2023-05-11T04:48:04.586181Z"
    }
   },
   "outputs": [
    {
     "data": {
      "image/png": "[encoded data removed]",
      "text/plain": [
       "<Figure size 504x360 with 1 Axes>"
      ]
     },
     "metadata": {
      "needs_background": "light"
     },
     "output_type": "display_data"
    }
   ],
   "source": [
    "from sklearn.semi_supervised import SelfTrainingClassifier\n",
    "\n",
    "Valid_Acc = []\n",
    "\n",
    "for k_best in [10, 50, 100, 150, 200]:\n",
    "    clf = MultinomialNB(alpha=0.5)\n",
    "    self_training_clf = SelfTrainingClassifier(clf, criterion='k_best', k_best=k_best)\n",
    "\n",
    "    Y_train_salary_bin = train_df[\"salary_bin\"].values.astype(int)\n",
    "    # Unlabeled samples should have the label -1\n",
    "    Y_train_salary_bin[8000:] = -1\n",
    "\n",
    "    train_acc = []\n",
    "    valid_acc = []\n",
    "\n",
    "    for i in [9000, 9500, 10000, 10500, 11000, 11500, 12000, 12500, 13000, 13500, 13902]:\n",
    "        self_training_clf.fit(X_train_tfidf_all[:i], Y_train_salary_bin[:i])\n",
    "        train_acc.append(self_training_clf.score(X_train_tfidf_all[:i], Y_train_salary_bin[:i]))\n",
    "        valid_acc.append(self_training_clf.score(X_valid_tfidf, Y_valid_salary_bin))\n",
    "\n",
    "    Valid_Acc.append(valid_acc)\n",
    "\n",
    "figure(figsize=(7, 5))\n",
    "x = [9000, 9500, 10000, 10500, 11000, 11500, 12000, 12500, 13000, 13500, 13902]\n",
    "x = [i - 8000 for i in x]\n",
    "\n",
    "# Plot Validation accuracy\n",
    "plt.plot(x, Valid_Acc[0], label = \"k_best = 10\")\n",
    "plt.plot(x, Valid_Acc[1], label = \"k_best = 50\")\n",
    "plt.plot(x, Valid_Acc[2], label = \"k_best = 100\")\n",
    "plt.plot(x, Valid_Acc[3], label = \"k_best = 150\")\n",
    "plt.plot(x, Valid_Acc[4], label = \"k_best = 200\")\n",
    "\n",
    "plt.title('Multinomial Naïve Bayes\\n Accuracy vs Amount of unlabeled data', fontsize=14)\n",
    "plt.ylabel('Validation Accuracy', fontsize=12)\n",
    "plt.xlabel('Amount of unlabeled data in the pool', fontsize=12)\n",
    "plt.legend()\n",
    "plt.show()\n",
    "\n",
    "df = pd.DataFrame(columns = ['Amount of unlabeled data', 'k_best=10', 'k_best=50', 'k_best=100', 'k_best=150', 'k_best=200'])\n",
    "df['Amount of unlabeled data'] = x\n",
    "df['k_best=10'] = Valid_Acc[0]\n",
    "df['k_best=50'] = Valid_Acc[1]\n",
    "df['k_best=100'] = Valid_Acc[2]\n",
    "df['k_best=150'] = Valid_Acc[3]\n",
    "df['k_best=200'] = Valid_Acc[4]\n",
    "df.to_excel('mnb_k.xlsx')"
   ]
  },
  {
   "cell_type": "code",
   "execution_count": 10,
   "metadata": {
    "ExecuteTime": {
     "end_time": "2023-05-11T04:48:22.274479Z",
     "start_time": "2023-05-11T04:48:22.260486Z"
    },
    "scrolled": false
   },
   "outputs": [
    {
     "data": {
      "text/html": [
       "<div>\n",
       "<style scoped>\n",
       "    .dataframe tbody tr th:only-of-type {\n",
       "        vertical-align: middle;\n",
       "    }\n",
       "\n",
       "    .dataframe tbody tr th {\n",
       "        vertical-align: top;\n",
       "    }\n",
       "\n",
       "    .dataframe thead th {\n",
       "        text-align: right;\n",
       "    }\n",
       "</style>\n",
       "<table border=\"1\" class=\"dataframe\">\n",
       "  <thead>\n",
       "    <tr style=\"text-align: right;\">\n",
       "      <th></th>\n",
       "      <th>Amount of unlabeled data</th>\n",
       "      <th>k_best=10</th>\n",
       "      <th>k_best=50</th>\n",
       "      <th>k_best=100</th>\n",
       "      <th>k_best=150</th>\n",
       "      <th>k_best=200</th>\n",
       "    </tr>\n",
       "  </thead>\n",
       "  <tbody>\n",
       "    <tr>\n",
       "      <th>0</th>\n",
       "      <td>1000</td>\n",
       "      <td>0.232585</td>\n",
       "      <td>0.232009</td>\n",
       "      <td>0.232585</td>\n",
       "      <td>0.233736</td>\n",
       "      <td>0.236615</td>\n",
       "    </tr>\n",
       "    <tr>\n",
       "      <th>1</th>\n",
       "      <td>1500</td>\n",
       "      <td>0.234888</td>\n",
       "      <td>0.233736</td>\n",
       "      <td>0.227979</td>\n",
       "      <td>0.226828</td>\n",
       "      <td>0.226828</td>\n",
       "    </tr>\n",
       "    <tr>\n",
       "      <th>2</th>\n",
       "      <td>2000</td>\n",
       "      <td>0.233736</td>\n",
       "      <td>0.229131</td>\n",
       "      <td>0.223949</td>\n",
       "      <td>0.219344</td>\n",
       "      <td>0.221647</td>\n",
       "    </tr>\n",
       "    <tr>\n",
       "      <th>3</th>\n",
       "      <td>2500</td>\n",
       "      <td>0.234312</td>\n",
       "      <td>0.230282</td>\n",
       "      <td>0.220495</td>\n",
       "      <td>0.219344</td>\n",
       "      <td>0.217041</td>\n",
       "    </tr>\n",
       "    <tr>\n",
       "      <th>4</th>\n",
       "      <td>3000</td>\n",
       "      <td>0.236615</td>\n",
       "      <td>0.230282</td>\n",
       "      <td>0.223374</td>\n",
       "      <td>0.217041</td>\n",
       "      <td>0.215314</td>\n",
       "    </tr>\n",
       "    <tr>\n",
       "      <th>5</th>\n",
       "      <td>3500</td>\n",
       "      <td>0.235463</td>\n",
       "      <td>0.229706</td>\n",
       "      <td>0.221647</td>\n",
       "      <td>0.218768</td>\n",
       "      <td>0.217041</td>\n",
       "    </tr>\n",
       "    <tr>\n",
       "      <th>6</th>\n",
       "      <td>4000</td>\n",
       "      <td>0.235463</td>\n",
       "      <td>0.230282</td>\n",
       "      <td>0.221071</td>\n",
       "      <td>0.217041</td>\n",
       "      <td>0.214162</td>\n",
       "    </tr>\n",
       "    <tr>\n",
       "      <th>7</th>\n",
       "      <td>4500</td>\n",
       "      <td>0.234312</td>\n",
       "      <td>0.230858</td>\n",
       "      <td>0.219344</td>\n",
       "      <td>0.216465</td>\n",
       "      <td>0.215314</td>\n",
       "    </tr>\n",
       "    <tr>\n",
       "      <th>8</th>\n",
       "      <td>5000</td>\n",
       "      <td>0.234888</td>\n",
       "      <td>0.231434</td>\n",
       "      <td>0.221071</td>\n",
       "      <td>0.216465</td>\n",
       "      <td>0.213011</td>\n",
       "    </tr>\n",
       "    <tr>\n",
       "      <th>9</th>\n",
       "      <td>5500</td>\n",
       "      <td>0.235463</td>\n",
       "      <td>0.232009</td>\n",
       "      <td>0.222222</td>\n",
       "      <td>0.217617</td>\n",
       "      <td>0.212435</td>\n",
       "    </tr>\n",
       "    <tr>\n",
       "      <th>10</th>\n",
       "      <td>5902</td>\n",
       "      <td>0.236039</td>\n",
       "      <td>0.232009</td>\n",
       "      <td>0.222222</td>\n",
       "      <td>0.217617</td>\n",
       "      <td>0.213587</td>\n",
       "    </tr>\n",
       "  </tbody>\n",
       "</table>\n",
       "</div>"
      ],
      "text/plain": [
       "    Amount of unlabeled data  k_best=10  k_best=50  k_best=100  k_best=150  \\\n",
       "0                       1000   0.232585   0.232009    0.232585    0.233736   \n",
       "1                       1500   0.234888   0.233736    0.227979    0.226828   \n",
       "2                       2000   0.233736   0.229131    0.223949    0.219344   \n",
       "3                       2500   0.234312   0.230282    0.220495    0.219344   \n",
       "4                       3000   0.236615   0.230282    0.223374    0.217041   \n",
       "5                       3500   0.235463   0.229706    0.221647    0.218768   \n",
       "6                       4000   0.235463   0.230282    0.221071    0.217041   \n",
       "7                       4500   0.234312   0.230858    0.219344    0.216465   \n",
       "8                       5000   0.234888   0.231434    0.221071    0.216465   \n",
       "9                       5500   0.235463   0.232009    0.222222    0.217617   \n",
       "10                      5902   0.236039   0.232009    0.222222    0.217617   \n",
       "\n",
       "    k_best=200  \n",
       "0     0.236615  \n",
       "1     0.226828  \n",
       "2     0.221647  \n",
       "3     0.217041  \n",
       "4     0.215314  \n",
       "5     0.217041  \n",
       "6     0.214162  \n",
       "7     0.215314  \n",
       "8     0.213011  \n",
       "9     0.212435  \n",
       "10    0.213587  "
      ]
     },
     "execution_count": 10,
     "metadata": {},
     "output_type": "execute_result"
    }
   ],
   "source": [
    "df"
   ]
  },
  {
   "cell_type": "markdown",
   "metadata": {},
   "source": [
    "#### K-Nearest Neighbors"
   ]
  },
  {
   "cell_type": "code",
   "execution_count": 11,
   "metadata": {
    "ExecuteTime": {
     "end_time": "2023-05-11T04:58:52.327726Z",
     "start_time": "2023-05-11T04:48:22.276443Z"
    }
   },
   "outputs": [
    {
     "data": {
      "image/png": "[encoded data removed]",
      "text/plain": [
       "<Figure size 504x360 with 1 Axes>"
      ]
     },
     "metadata": {
      "needs_background": "light"
     },
     "output_type": "display_data"
    }
   ],
   "source": [
    "from sklearn.semi_supervised import SelfTrainingClassifier\n",
    "\n",
    "Valid_Acc = []\n",
    "\n",
    "for k_best in [10, 50, 100, 150, 200]:\n",
    "    clf = KNeighborsClassifier(metric='cosine', n_neighbors=45)\n",
    "    self_training_clf = SelfTrainingClassifier(clf, criterion='k_best', k_best=k_best)\n",
    "\n",
    "    Y_train_salary_bin = train_df[\"salary_bin\"].values.astype(int)\n",
    "    # Unlabeled samples should have the label -1\n",
    "    Y_train_salary_bin[8000:] = -1\n",
    "\n",
    "    train_acc = []\n",
    "    valid_acc = []\n",
    "\n",
    "    for i in [9000, 9500, 10000, 10500, 11000, 11500, 12000, 12500, 13000, 13500, 13902]:\n",
    "        self_training_clf.fit(X_train_combined_all_scaled[:i], Y_train_salary_bin[:i])\n",
    "        train_acc.append(self_training_clf.score(X_train_combined_all_scaled[:i], Y_train_salary_bin[:i]))\n",
    "        valid_acc.append(self_training_clf.score(X_valid_combined_scaled, Y_valid_salary_bin))\n",
    "        \n",
    "    Valid_Acc.append(valid_acc)\n",
    "\n",
    "figure(figsize=(7, 5))\n",
    "x = [9000, 9500, 10000, 10500, 11000, 11500, 12000, 12500, 13000, 13500, 13902]\n",
    "x = [i - 8000 for i in x]\n",
    "\n",
    "# Plot Validation accuracy\n",
    "plt.plot(x, Valid_Acc[0], label = \"k_best = 10\")\n",
    "plt.plot(x, Valid_Acc[1], label = \"k_best = 50\")\n",
    "plt.plot(x, Valid_Acc[2], label = \"k_best = 100\")\n",
    "plt.plot(x, Valid_Acc[3], label = \"k_best = 150\")\n",
    "plt.plot(x, Valid_Acc[4], label = \"k_best = 200\")\n",
    "\n",
    "plt.title('K-Nearest Neighbors\\n Accuracy vs Amount of unlabeled data', fontsize=14)\n",
    "plt.ylabel('Validation Accuracy', fontsize=12)\n",
    "plt.xlabel('Amount of unlabeled data in the pool', fontsize=12)\n",
    "plt.legend()\n",
    "plt.show()\n",
    "\n",
    "df = pd.DataFrame(columns = ['Amount of unlabeled data', 'k_best=10', 'k_best=50', 'k_best=100', 'k_best=150', 'k_best=200'])\n",
    "df['Amount of unlabeled data'] = x\n",
    "df['k_best=10'] = Valid_Acc[0]\n",
    "df['k_best=50'] = Valid_Acc[1]\n",
    "df['k_best=100'] = Valid_Acc[2]\n",
    "df['k_best=150'] = Valid_Acc[3]\n",
    "df['k_best=200'] = Valid_Acc[4]\n",
    "df.to_excel('knn_k.xlsx')"
   ]
  },
  {
   "cell_type": "code",
   "execution_count": 12,
   "metadata": {
    "ExecuteTime": {
     "end_time": "2023-05-11T04:58:52.343599Z",
     "start_time": "2023-05-11T04:58:52.328639Z"
    },
    "scrolled": false
   },
   "outputs": [
    {
     "data": {
      "text/html": [
       "<div>\n",
       "<style scoped>\n",
       "    .dataframe tbody tr th:only-of-type {\n",
       "        vertical-align: middle;\n",
       "    }\n",
       "\n",
       "    .dataframe tbody tr th {\n",
       "        vertical-align: top;\n",
       "    }\n",
       "\n",
       "    .dataframe thead th {\n",
       "        text-align: right;\n",
       "    }\n",
       "</style>\n",
       "<table border=\"1\" class=\"dataframe\">\n",
       "  <thead>\n",
       "    <tr style=\"text-align: right;\">\n",
       "      <th></th>\n",
       "      <th>Amount of unlabeled data</th>\n",
       "      <th>k_best=10</th>\n",
       "      <th>k_best=50</th>\n",
       "      <th>k_best=100</th>\n",
       "      <th>k_best=150</th>\n",
       "      <th>k_best=200</th>\n",
       "    </tr>\n",
       "  </thead>\n",
       "  <tbody>\n",
       "    <tr>\n",
       "      <th>0</th>\n",
       "      <td>1000</td>\n",
       "      <td>0.246978</td>\n",
       "      <td>0.244675</td>\n",
       "      <td>0.244675</td>\n",
       "      <td>0.242948</td>\n",
       "      <td>0.248705</td>\n",
       "    </tr>\n",
       "    <tr>\n",
       "      <th>1</th>\n",
       "      <td>1500</td>\n",
       "      <td>0.249280</td>\n",
       "      <td>0.249280</td>\n",
       "      <td>0.241220</td>\n",
       "      <td>0.242948</td>\n",
       "      <td>0.240645</td>\n",
       "    </tr>\n",
       "    <tr>\n",
       "      <th>2</th>\n",
       "      <td>2000</td>\n",
       "      <td>0.252159</td>\n",
       "      <td>0.247553</td>\n",
       "      <td>0.243523</td>\n",
       "      <td>0.242948</td>\n",
       "      <td>0.237766</td>\n",
       "    </tr>\n",
       "    <tr>\n",
       "      <th>3</th>\n",
       "      <td>2500</td>\n",
       "      <td>0.249280</td>\n",
       "      <td>0.245250</td>\n",
       "      <td>0.242948</td>\n",
       "      <td>0.244099</td>\n",
       "      <td>0.240069</td>\n",
       "    </tr>\n",
       "    <tr>\n",
       "      <th>4</th>\n",
       "      <td>3000</td>\n",
       "      <td>0.249856</td>\n",
       "      <td>0.246978</td>\n",
       "      <td>0.244675</td>\n",
       "      <td>0.241796</td>\n",
       "      <td>0.239493</td>\n",
       "    </tr>\n",
       "    <tr>\n",
       "      <th>5</th>\n",
       "      <td>3500</td>\n",
       "      <td>0.250432</td>\n",
       "      <td>0.241796</td>\n",
       "      <td>0.242948</td>\n",
       "      <td>0.234312</td>\n",
       "      <td>0.235463</td>\n",
       "    </tr>\n",
       "    <tr>\n",
       "      <th>6</th>\n",
       "      <td>4000</td>\n",
       "      <td>0.251007</td>\n",
       "      <td>0.243523</td>\n",
       "      <td>0.245250</td>\n",
       "      <td>0.239493</td>\n",
       "      <td>0.234888</td>\n",
       "    </tr>\n",
       "    <tr>\n",
       "      <th>7</th>\n",
       "      <td>4500</td>\n",
       "      <td>0.251583</td>\n",
       "      <td>0.244675</td>\n",
       "      <td>0.242372</td>\n",
       "      <td>0.241220</td>\n",
       "      <td>0.233161</td>\n",
       "    </tr>\n",
       "    <tr>\n",
       "      <th>8</th>\n",
       "      <td>5000</td>\n",
       "      <td>0.250432</td>\n",
       "      <td>0.245826</td>\n",
       "      <td>0.245250</td>\n",
       "      <td>0.241796</td>\n",
       "      <td>0.231434</td>\n",
       "    </tr>\n",
       "    <tr>\n",
       "      <th>9</th>\n",
       "      <td>5500</td>\n",
       "      <td>0.251007</td>\n",
       "      <td>0.246402</td>\n",
       "      <td>0.241796</td>\n",
       "      <td>0.244099</td>\n",
       "      <td>0.238342</td>\n",
       "    </tr>\n",
       "    <tr>\n",
       "      <th>10</th>\n",
       "      <td>5902</td>\n",
       "      <td>0.251007</td>\n",
       "      <td>0.246402</td>\n",
       "      <td>0.242948</td>\n",
       "      <td>0.244675</td>\n",
       "      <td>0.234888</td>\n",
       "    </tr>\n",
       "  </tbody>\n",
       "</table>\n",
       "</div>"
      ],
      "text/plain": [
       "    Amount of unlabeled data  k_best=10  k_best=50  k_best=100  k_best=150  \\\n",
       "0                       1000   0.246978   0.244675    0.244675    0.242948   \n",
       "1                       1500   0.249280   0.249280    0.241220    0.242948   \n",
       "2                       2000   0.252159   0.247553    0.243523    0.242948   \n",
       "3                       2500   0.249280   0.245250    0.242948    0.244099   \n",
       "4                       3000   0.249856   0.246978    0.244675    0.241796   \n",
       "5                       3500   0.250432   0.241796    0.242948    0.234312   \n",
       "6                       4000   0.251007   0.243523    0.245250    0.239493   \n",
       "7                       4500   0.251583   0.244675    0.242372    0.241220   \n",
       "8                       5000   0.250432   0.245826    0.245250    0.241796   \n",
       "9                       5500   0.251007   0.246402    0.241796    0.244099   \n",
       "10                      5902   0.251007   0.246402    0.242948    0.244675   \n",
       "\n",
       "    k_best=200  \n",
       "0     0.248705  \n",
       "1     0.240645  \n",
       "2     0.237766  \n",
       "3     0.240069  \n",
       "4     0.239493  \n",
       "5     0.235463  \n",
       "6     0.234888  \n",
       "7     0.233161  \n",
       "8     0.231434  \n",
       "9     0.238342  \n",
       "10    0.234888  "
      ]
     },
     "execution_count": 12,
     "metadata": {},
     "output_type": "execute_result"
    }
   ],
   "source": [
    "df"
   ]
  },
  {
   "cell_type": "markdown",
   "metadata": {},
   "source": [
    "#### Random Forest"
   ]
  },
  {
   "cell_type": "code",
   "execution_count": 13,
   "metadata": {
    "ExecuteTime": {
     "end_time": "2023-05-12T02:53:28.944242Z",
     "start_time": "2023-05-11T04:58:52.346603Z"
    }
   },
   "outputs": [
    {
     "data": {
      "image/png": "[encoded data removed]",
      "text/plain": [
       "<Figure size 504x360 with 1 Axes>"
      ]
     },
     "metadata": {
      "needs_background": "light"
     },
     "output_type": "display_data"
    }
   ],
   "source": [
    "from sklearn.semi_supervised import SelfTrainingClassifier\n",
    "\n",
    "Valid_Acc = []\n",
    "\n",
    "for k_best in [10, 50, 100, 150, 200]:\n",
    "    clf = RandomForestClassifier(criterion='entropy', max_depth=40, n_estimators=400)\n",
    "    self_training_clf = SelfTrainingClassifier(clf, criterion='k_best', k_best=k_best)\n",
    "\n",
    "    Y_train_salary_bin = train_df[\"salary_bin\"].values.astype(int)\n",
    "    # Unlabeled samples should have the label -1\n",
    "    Y_train_salary_bin[8000:] = -1\n",
    "\n",
    "    train_acc = []\n",
    "    valid_acc = []\n",
    "\n",
    "    for i in [9000, 9500, 10000, 10500, 11000, 11500, 12000, 12500, 13000, 13500, 13902]:\n",
    "        self_training_clf.fit(X_train_combined_all_scaled[:i], Y_train_salary_bin[:i])\n",
    "        train_acc.append(self_training_clf.score(X_train_combined_all_scaled[:i], Y_train_salary_bin[:i]))\n",
    "        valid_acc.append(self_training_clf.score(X_valid_combined_scaled, Y_valid_salary_bin))\n",
    "\n",
    "    Valid_Acc.append(valid_acc)\n",
    "\n",
    "figure(figsize=(7, 5))\n",
    "x = [9000, 9500, 10000, 10500, 11000, 11500, 12000, 12500, 13000, 13500, 13902]\n",
    "x = [i - 8000 for i in x]\n",
    "\n",
    "# Plot Validation accuracy\n",
    "plt.plot(x, Valid_Acc[0], label = \"k_best = 10\")\n",
    "plt.plot(x, Valid_Acc[1], label = \"k_best = 50\")\n",
    "plt.plot(x, Valid_Acc[2], label = \"k_best = 100\")\n",
    "plt.plot(x, Valid_Acc[3], label = \"k_best = 150\")\n",
    "plt.plot(x, Valid_Acc[4], label = \"k_best = 200\")\n",
    "\n",
    "plt.title('Random Forest\\n Accuracy vs Amount of unlabeled data', fontsize=14)\n",
    "plt.ylabel('Validation Accuracy', fontsize=12)\n",
    "plt.xlabel('Amount of unlabeled data in the pool', fontsize=12)\n",
    "plt.legend()\n",
    "plt.show()\n",
    "\n",
    "df = pd.DataFrame(columns = ['Amount of unlabeled data', 'k_best=10', 'k_best=50', 'k_best=100', 'k_best=150', 'k_best=200'])\n",
    "df['Amount of unlabeled data'] = x\n",
    "df['k_best=10'] = Valid_Acc[0]\n",
    "df['k_best=50'] = Valid_Acc[1]\n",
    "df['k_best=100'] = Valid_Acc[2]\n",
    "df['k_best=150'] = Valid_Acc[3]\n",
    "df['k_best=200'] = Valid_Acc[4]\n",
    "df.to_excel('rf_k.xlsx')"
   ]
  },
  {
   "cell_type": "code",
   "execution_count": 14,
   "metadata": {
    "ExecuteTime": {
     "end_time": "2023-05-12T02:53:28.960224Z",
     "start_time": "2023-05-12T02:53:28.947234Z"
    },
    "scrolled": true
   },
   "outputs": [
    {
     "data": {
      "text/html": [
       "<div>\n",
       "<style scoped>\n",
       "    .dataframe tbody tr th:only-of-type {\n",
       "        vertical-align: middle;\n",
       "    }\n",
       "\n",
       "    .dataframe tbody tr th {\n",
       "        vertical-align: top;\n",
       "    }\n",
       "\n",
       "    .dataframe thead th {\n",
       "        text-align: right;\n",
       "    }\n",
       "</style>\n",
       "<table border=\"1\" class=\"dataframe\">\n",
       "  <thead>\n",
       "    <tr style=\"text-align: right;\">\n",
       "      <th></th>\n",
       "      <th>Amount of unlabeled data</th>\n",
       "      <th>k_best=10</th>\n",
       "      <th>k_best=50</th>\n",
       "      <th>k_best=100</th>\n",
       "      <th>k_best=150</th>\n",
       "      <th>k_best=200</th>\n",
       "    </tr>\n",
       "  </thead>\n",
       "  <tbody>\n",
       "    <tr>\n",
       "      <th>0</th>\n",
       "      <td>1000</td>\n",
       "      <td>0.257916</td>\n",
       "      <td>0.254462</td>\n",
       "      <td>0.254462</td>\n",
       "      <td>0.252735</td>\n",
       "      <td>0.251007</td>\n",
       "    </tr>\n",
       "    <tr>\n",
       "      <th>1</th>\n",
       "      <td>1500</td>\n",
       "      <td>0.259643</td>\n",
       "      <td>0.253886</td>\n",
       "      <td>0.247553</td>\n",
       "      <td>0.241796</td>\n",
       "      <td>0.240645</td>\n",
       "    </tr>\n",
       "    <tr>\n",
       "      <th>2</th>\n",
       "      <td>2000</td>\n",
       "      <td>0.259643</td>\n",
       "      <td>0.258492</td>\n",
       "      <td>0.237766</td>\n",
       "      <td>0.230282</td>\n",
       "      <td>0.231434</td>\n",
       "    </tr>\n",
       "    <tr>\n",
       "      <th>3</th>\n",
       "      <td>2500</td>\n",
       "      <td>0.261370</td>\n",
       "      <td>0.246978</td>\n",
       "      <td>0.246402</td>\n",
       "      <td>0.229706</td>\n",
       "      <td>0.231434</td>\n",
       "    </tr>\n",
       "    <tr>\n",
       "      <th>4</th>\n",
       "      <td>3000</td>\n",
       "      <td>0.264824</td>\n",
       "      <td>0.247553</td>\n",
       "      <td>0.253310</td>\n",
       "      <td>0.229706</td>\n",
       "      <td>0.225101</td>\n",
       "    </tr>\n",
       "    <tr>\n",
       "      <th>5</th>\n",
       "      <td>3500</td>\n",
       "      <td>0.249280</td>\n",
       "      <td>0.259067</td>\n",
       "      <td>0.247553</td>\n",
       "      <td>0.231434</td>\n",
       "      <td>0.225101</td>\n",
       "    </tr>\n",
       "    <tr>\n",
       "      <th>6</th>\n",
       "      <td>4000</td>\n",
       "      <td>0.247553</td>\n",
       "      <td>0.246978</td>\n",
       "      <td>0.245250</td>\n",
       "      <td>0.245826</td>\n",
       "      <td>0.216465</td>\n",
       "    </tr>\n",
       "    <tr>\n",
       "      <th>7</th>\n",
       "      <td>4500</td>\n",
       "      <td>0.256189</td>\n",
       "      <td>0.254462</td>\n",
       "      <td>0.245250</td>\n",
       "      <td>0.238342</td>\n",
       "      <td>0.223949</td>\n",
       "    </tr>\n",
       "    <tr>\n",
       "      <th>8</th>\n",
       "      <td>5000</td>\n",
       "      <td>0.262522</td>\n",
       "      <td>0.257916</td>\n",
       "      <td>0.256189</td>\n",
       "      <td>0.238342</td>\n",
       "      <td>0.226252</td>\n",
       "    </tr>\n",
       "    <tr>\n",
       "      <th>9</th>\n",
       "      <td>5500</td>\n",
       "      <td>0.261946</td>\n",
       "      <td>0.263673</td>\n",
       "      <td>0.246978</td>\n",
       "      <td>0.245826</td>\n",
       "      <td>0.230858</td>\n",
       "    </tr>\n",
       "    <tr>\n",
       "      <th>10</th>\n",
       "      <td>5902</td>\n",
       "      <td>0.260794</td>\n",
       "      <td>0.248705</td>\n",
       "      <td>0.251007</td>\n",
       "      <td>0.244675</td>\n",
       "      <td>0.226828</td>\n",
       "    </tr>\n",
       "  </tbody>\n",
       "</table>\n",
       "</div>"
      ],
      "text/plain": [
       "    Amount of unlabeled data  k_best=10  k_best=50  k_best=100  k_best=150  \\\n",
       "0                       1000   0.257916   0.254462    0.254462    0.252735   \n",
       "1                       1500   0.259643   0.253886    0.247553    0.241796   \n",
       "2                       2000   0.259643   0.258492    0.237766    0.230282   \n",
       "3                       2500   0.261370   0.246978    0.246402    0.229706   \n",
       "4                       3000   0.264824   0.247553    0.253310    0.229706   \n",
       "5                       3500   0.249280   0.259067    0.247553    0.231434   \n",
       "6                       4000   0.247553   0.246978    0.245250    0.245826   \n",
       "7                       4500   0.256189   0.254462    0.245250    0.238342   \n",
       "8                       5000   0.262522   0.257916    0.256189    0.238342   \n",
       "9                       5500   0.261946   0.263673    0.246978    0.245826   \n",
       "10                      5902   0.260794   0.248705    0.251007    0.244675   \n",
       "\n",
       "    k_best=200  \n",
       "0     0.251007  \n",
       "1     0.240645  \n",
       "2     0.231434  \n",
       "3     0.231434  \n",
       "4     0.225101  \n",
       "5     0.225101  \n",
       "6     0.216465  \n",
       "7     0.223949  \n",
       "8     0.226252  \n",
       "9     0.230858  \n",
       "10    0.226828  "
      ]
     },
     "execution_count": 14,
     "metadata": {},
     "output_type": "execute_result"
    }
   ],
   "source": [
    "df"
   ]
  }
 ],
 "metadata": {
  "kernelspec": {
   "display_name": "Python 3",
   "language": "python",
   "name": "python3"
  },
  "language_info": {
   "codemirror_mode": {
    "name": "ipython",
    "version": 3
   },
   "file_extension": ".py",
   "mimetype": "text/x-python",
   "name": "python",
   "nbconvert_exporter": "python",
   "pygments_lexer": "ipython3",
   "version": "3.7.9"
  },
  "toc": {
   "base_numbering": 1,
   "nav_menu": {},
   "number_sections": true,
   "sideBar": true,
   "skip_h1_title": false,
   "title_cell": "Table of Contents",
   "title_sidebar": "Contents",
   "toc_cell": false,
   "toc_position": {
    "height": "calc(100% - 180px)",
    "left": "10px",
    "top": "150px",
    "width": "554.02px"
   },
   "toc_section_display": true,
   "toc_window_display": false
  }
 },
 "nbformat": 4,
 "nbformat_minor": 4
}
